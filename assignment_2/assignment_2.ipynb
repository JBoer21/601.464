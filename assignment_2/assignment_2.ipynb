{
 "cells": [
  {
   "cell_type": "markdown",
   "metadata": {},
   "source": [
    "# Artificial Intelligence\n",
    "# 464\n",
    "# Assignment #2\n",
    "\n",
    "## General Directions for this Assignment\n",
    "\n",
    "00. We're using a Jupyter Notebook environment (tutorial available here: https://jupyter-notebook-beginner-guide.readthedocs.io/en/latest/what_is_jupyter.html),\n",
    "01. Read the entire notebook before beginning your work, \n",
    "02. Output format should be exactly as requested, \n",
    "03. Each helper function should be preceeded by documentation (Markdown cell),\n",
    "05. No comments in the code; anything worth mentioning should be included in the documentation,\n",
    "06. Keep functions to 20 lines or less (including empty lines so do not add any),\n",
    "08. Use descriptive variable names,\n",
    "09. Functions should do only one thing,\n",
    "10. Check submission deadline on Gradescope, \n",
    "11. Rename the file to Last_First_assignment_2, \n",
    "12. Submit your notebook (as .ipynb, not PDF) using Gradescope, and\n",
    "13. Do not submit any other files.\n",
    "\n",
    "\n",
    "## Directions _not_ applicable for this Assignment:\n",
    "* Do not use classes,\n",
    "* Each helper function should be followed by three assert-style unit tests.\n",
    "\n",
    "\n",
    "## Before You Submit...\n",
    "\n",
    "1. Re-read the general instructions provided above, and\n",
    "2. Hit \"Kernel\"->\"Restart & Run All\"."
   ]
  },
  {
   "cell_type": "markdown",
   "metadata": {},
   "source": [
    "## The World\n",
    "\n",
    "A `List of Lists` is used to represent the world. Cells marked as '⬛' are obstacles in the world and are not traversable."
   ]
  },
  {
   "cell_type": "code",
   "execution_count": 790,
   "metadata": {},
   "outputs": [],
   "source": [
    "world = [\n",
    "['⬜','⬜','⬜','⬜','⬜','⬜','⬜','⬜','⬜','⬜','⬜','⬜','⬜','⬜','⬜','⬜','⬜','⬜','⬜','⬜','⬜'],\n",
    "['⬜','⬜','⬜','⬜','⬜','⬜','⬜','⬜','⬜','⬜','⬜','⬜','⬜','⬜','⬜','⬜','⬜','⬜','⬜','⬜','⬜'],\n",
    "['⬜','⬜','⬜','⬜','⬜','⬜','⬜','⬜','⬜','⬜','⬜','⬜','⬜','⬜','⬜','⬜','⬜','⬜','⬜','⬜','⬜'],\n",
    "['⬜','⬜','⬜','⬜','⬜','⬜','⬜','⬜','⬜','⬜','⬜','⬜','⬜','⬜','⬜','⬜','⬜','⬜','⬜','⬜','⬜'],\n",
    "['⬜','⬜','⬜','⬜','⬜','⬜','⬜','⬜','⬜','⬜','⬜','⬜','⬜','⬜','⬜','⬜','⬜','⬜','⬜','⬜','⬜'],\n",
    "['⬜','⬜','⬜','⬜','⬜','⬜','⬜','⬜','⬜','⬜','⬜','⬜','⬜','⬜','⬜','⬜','⬜','⬜','⬜','⬜','⬜'],\n",
    "['⬜','⬜','⬜','⬜','⬜','⬜','⬜','⬜','⬜','⬜','⬜','⬜','⬜','⬜','⬜','⬜','⬜','⬜','⬜','⬜','⬜'],\n",
    "['⬜','⬜','⬜','⬜','⬜','⬜','⬜','⬜','⬜','⬜','⬜','⬜','⬜','⬜','⬜','⬜','⬜','⬜','⬜','⬜','⬜'],\n",
    "['⬜','⬜','⬜','⬜','⬜','⬜','⬜','⬜','⬜','⬜','⬜','⬜','⬜','⬜','⬜','⬜','⬜','⬜','⬜','⬜','⬜'],\n",
    "['⬜','⬜','⬜','⬜','⬜','⬜','⬜','⬜','⬜','⬛','⬛','⬛','⬜','⬜','⬜','⬜','⬜','⬜','⬜','⬜','⬜'],\n",
    "['⬜','⬜','⬜','⬜','⬜','⬜','⬜','⬜','⬜','⬛','⬛','⬛','⬜','⬜','⬜','⬜','⬜','⬜','⬜','⬜','⬜'],\n",
    "['⬜','⬜','⬜','⬜','⬜','⬜','⬜','⬜','⬜','⬛','⬛','⬛','⬜','⬜','⬜','⬜','⬜','⬜','⬜','⬜','⬜'],\n",
    "['⬜','⬜','⬜','⬜','⬜','⬜','⬜','⬜','⬜','⬜','⬜','⬜','⬜','⬜','⬜','⬜','⬜','⬜','⬜','⬜','⬜'],\n",
    "['⬜','⬜','⬜','⬜','⬜','⬜','⬜','⬜','⬜','⬜','⬜','⬜','⬜','⬜','⬜','⬜','⬜','⬜','⬜','⬜','⬜'],\n",
    "['⬜','⬜','⬜','⬜','⬜','⬜','⬜','⬜','⬜','⬜','⬜','⬜','⬜','⬜','⬜','⬜','⬜','⬜','⬜','⬜','⬜'],\n",
    "['⬜','⬜','⬜','⬜','⬜','⬜','⬜','⬜','⬜','⬜','⬜','⬜','⬜','⬜','⬜','⬜','⬜','⬜','⬜','⬜','⬜'],\n",
    "['⬜','⬜','⬜','⬜','⬜','⬜','⬜','⬜','⬜','⬜','⬜','⬜','⬜','⬜','⬜','⬜','⬜','⬜','⬜','⬜','⬜'],\n",
    "['⬜','⬜','⬜','⬜','⬜','⬜','⬜','⬜','⬜','⬜','⬜','⬜','⬜','⬜','⬜','⬜','⬜','⬜','⬜','⬜','⬜'],\n",
    "['⬜','⬜','⬜','⬜','⬜','⬜','⬜','⬜','⬜','⬜','⬜','⬜','⬜','⬜','⬜','⬜','⬜','⬜','⬜','⬜','⬜'],\n",
    "['⬜','⬜','⬜','⬜','⬜','⬜','⬜','⬜','⬜','⬜','⬜','⬜','⬜','⬜','⬜','⬜','⬜','⬜','⬜','⬜','⬜'],\n",
    "['⬜','⬜','⬜','⬜','⬜','⬜','⬜','⬜','⬜','⬜','⬜','⬜','⬜','⬜','⬜','⬜','⬜','⬜','⬜','⬜','⬜']]"
   ]
  },
  {
   "cell_type": "code",
   "execution_count": 791,
   "metadata": {},
   "outputs": [
    {
     "name": "stdout",
     "output_type": "stream",
     "text": [
      "⬜⬜⬜⬜⬜⬜⬜⬜⬜⬜⬜⬜⬜⬜⬜⬜⬜⬜⬜⬜⬜\n",
      "⬜⬜⬜⬜⬜⬜⬜⬜⬜⬜⬜⬜⬜⬜⬜⬜⬜⬜⬜⬜⬜\n",
      "⬜⬜⬜⬜⬜⬜⬜⬜⬜⬜⬜⬜⬜⬜⬜⬜⬜⬜⬜⬜⬜\n",
      "⬜⬜⬜⬜⬜⬜⬜⬜⬜⬜⬜⬜⬜⬜⬜⬜⬜⬜⬜⬜⬜\n",
      "⬜⬜⬜⬜⬜⬜⬜⬜⬜⬜⬜⬜⬜⬜⬜⬜⬜⬜⬜⬜⬜\n",
      "⬜⬜⬜⬜⬜⬜⬜⬜⬜⬜⬜⬜⬜⬜⬜⬜⬜⬜⬜⬜⬜\n",
      "⬜⬜⬜⬜⬜⬜⬜⬜⬜⬜⬜⬜⬜⬜⬜⬜⬜⬜⬜⬜⬜\n",
      "⬜⬜⬜⬜⬜⬜⬜⬜⬜⬜⬜⬜⬜⬜⬜⬜⬜⬜⬜⬜⬜\n",
      "⬜⬜⬜⬜⬜⬜⬜⬜⬜⬜⬜⬜⬜⬜⬜⬜⬜⬜⬜⬜⬜\n",
      "⬜⬜⬜⬜⬜⬜⬜⬜⬜⬛⬛⬛⬜⬜⬜⬜⬜⬜⬜⬜⬜\n",
      "⬜⬜⬜⬜⬜⬜⬜⬜⬜⬛⬛⬛⬜⬜⬜⬜⬜⬜⬜⬜⬜\n",
      "⬜⬜⬜⬜⬜⬜⬜⬜⬜⬛⬛⬛⬜⬜⬜⬜⬜⬜⬜⬜⬜\n",
      "⬜⬜⬜⬜⬜⬜⬜⬜⬜⬜⬜⬜⬜⬜⬜⬜⬜⬜⬜⬜⬜\n",
      "⬜⬜⬜⬜⬜⬜⬜⬜⬜⬜⬜⬜⬜⬜⬜⬜⬜⬜⬜⬜⬜\n",
      "⬜⬜⬜⬜⬜⬜⬜⬜⬜⬜⬜⬜⬜⬜⬜⬜⬜⬜⬜⬜⬜\n",
      "⬜⬜⬜⬜⬜⬜⬜⬜⬜⬜⬜⬜⬜⬜⬜⬜⬜⬜⬜⬜⬜\n",
      "⬜⬜⬜⬜⬜⬜⬜⬜⬜⬜⬜⬜⬜⬜⬜⬜⬜⬜⬜⬜⬜\n",
      "⬜⬜⬜⬜⬜⬜⬜⬜⬜⬜⬜⬜⬜⬜⬜⬜⬜⬜⬜⬜⬜\n",
      "⬜⬜⬜⬜⬜⬜⬜⬜⬜⬜⬜⬜⬜⬜⬜⬜⬜⬜⬜⬜⬜\n",
      "⬜⬜⬜⬜⬜⬜⬜⬜⬜⬜⬜⬜⬜⬜⬜⬜⬜⬜⬜⬜⬜\n",
      "⬜⬜⬜⬜⬜⬜⬜⬜⬜⬜⬜⬜⬜⬜⬜⬜⬜⬜⬜⬜⬜\n"
     ]
    }
   ],
   "source": [
    "# A nicer view of the world, without commas and brackets\n",
    "for row in world:\n",
    "    print(\"\".join(row))"
   ]
  },
  {
   "cell_type": "markdown",
   "metadata": {},
   "source": [
    "## Robot\n",
    "\n",
    "Our robot '🤖' starts at the bottom left and can either move up, down, left, or right. It needs to get to the '❤️' in the world. Unlike the previous assignment, the robot now knows where the heart is."
   ]
  },
  {
   "cell_type": "code",
   "execution_count": 792,
   "metadata": {},
   "outputs": [],
   "source": [
    "MOVES = [(0,-1), (1,0), (0,1), (-1,0)]"
   ]
  },
  {
   "cell_type": "code",
   "execution_count": 793,
   "metadata": {},
   "outputs": [],
   "source": [
    "good_start = (len(world)-1, 0)"
   ]
  },
  {
   "cell_type": "code",
   "execution_count": 794,
   "metadata": {},
   "outputs": [],
   "source": [
    "goal = (0, len(world)-1)"
   ]
  },
  {
   "cell_type": "markdown",
   "metadata": {},
   "source": [
    "## Bad Robot\n",
    "\n",
    "And unlike the previous assignment, we have a bad robot '👾', too, that starts at the bottom right and can also move either up, down, left, or right. It wants to zap our robot. The zapper range isn't that great, so our robot is considered zapped if it is anywhere in a 3x3 cell centered at the bad robot."
   ]
  },
  {
   "cell_type": "code",
   "execution_count": 795,
   "metadata": {},
   "outputs": [],
   "source": [
    "bad_start = (len(world)-1, len(world)-1)"
   ]
  },
  {
   "cell_type": "code",
   "execution_count": 796,
   "metadata": {},
   "outputs": [],
   "source": [
    "# Update the world with this information\n",
    "world[good_start[0]][good_start[1]] = '🤖'\n",
    "world[goal[0]][goal[1]] = '❤️'\n",
    "world[bad_start[0]][bad_start[1]] = '👾'"
   ]
  },
  {
   "cell_type": "code",
   "execution_count": 797,
   "metadata": {},
   "outputs": [
    {
     "name": "stdout",
     "output_type": "stream",
     "text": [
      "⬜⬜⬜⬜⬜⬜⬜⬜⬜⬜⬜⬜⬜⬜⬜⬜⬜⬜⬜⬜❤️\n",
      "⬜⬜⬜⬜⬜⬜⬜⬜⬜⬜⬜⬜⬜⬜⬜⬜⬜⬜⬜⬜⬜\n",
      "⬜⬜⬜⬜⬜⬜⬜⬜⬜⬜⬜⬜⬜⬜⬜⬜⬜⬜⬜⬜⬜\n",
      "⬜⬜⬜⬜⬜⬜⬜⬜⬜⬜⬜⬜⬜⬜⬜⬜⬜⬜⬜⬜⬜\n",
      "⬜⬜⬜⬜⬜⬜⬜⬜⬜⬜⬜⬜⬜⬜⬜⬜⬜⬜⬜⬜⬜\n",
      "⬜⬜⬜⬜⬜⬜⬜⬜⬜⬜⬜⬜⬜⬜⬜⬜⬜⬜⬜⬜⬜\n",
      "⬜⬜⬜⬜⬜⬜⬜⬜⬜⬜⬜⬜⬜⬜⬜⬜⬜⬜⬜⬜⬜\n",
      "⬜⬜⬜⬜⬜⬜⬜⬜⬜⬜⬜⬜⬜⬜⬜⬜⬜⬜⬜⬜⬜\n",
      "⬜⬜⬜⬜⬜⬜⬜⬜⬜⬜⬜⬜⬜⬜⬜⬜⬜⬜⬜⬜⬜\n",
      "⬜⬜⬜⬜⬜⬜⬜⬜⬜⬛⬛⬛⬜⬜⬜⬜⬜⬜⬜⬜⬜\n",
      "⬜⬜⬜⬜⬜⬜⬜⬜⬜⬛⬛⬛⬜⬜⬜⬜⬜⬜⬜⬜⬜\n",
      "⬜⬜⬜⬜⬜⬜⬜⬜⬜⬛⬛⬛⬜⬜⬜⬜⬜⬜⬜⬜⬜\n",
      "⬜⬜⬜⬜⬜⬜⬜⬜⬜⬜⬜⬜⬜⬜⬜⬜⬜⬜⬜⬜⬜\n",
      "⬜⬜⬜⬜⬜⬜⬜⬜⬜⬜⬜⬜⬜⬜⬜⬜⬜⬜⬜⬜⬜\n",
      "⬜⬜⬜⬜⬜⬜⬜⬜⬜⬜⬜⬜⬜⬜⬜⬜⬜⬜⬜⬜⬜\n",
      "⬜⬜⬜⬜⬜⬜⬜⬜⬜⬜⬜⬜⬜⬜⬜⬜⬜⬜⬜⬜⬜\n",
      "⬜⬜⬜⬜⬜⬜⬜⬜⬜⬜⬜⬜⬜⬜⬜⬜⬜⬜⬜⬜⬜\n",
      "⬜⬜⬜⬜⬜⬜⬜⬜⬜⬜⬜⬜⬜⬜⬜⬜⬜⬜⬜⬜⬜\n",
      "⬜⬜⬜⬜⬜⬜⬜⬜⬜⬜⬜⬜⬜⬜⬜⬜⬜⬜⬜⬜⬜\n",
      "⬜⬜⬜⬜⬜⬜⬜⬜⬜⬜⬜⬜⬜⬜⬜⬜⬜⬜⬜⬜⬜\n",
      "🤖⬜⬜⬜⬜⬜⬜⬜⬜⬜⬜⬜⬜⬜⬜⬜⬜⬜⬜⬜👾\n"
     ]
    }
   ],
   "source": [
    "# A nicer view of the world, without commas and brackets\n",
    "for row in world:\n",
    "    print(\"\".join(row))"
   ]
  },
  {
   "cell_type": "markdown",
   "metadata": {},
   "source": [
    "## Game\n",
    "\n",
    "* We have two players: our original good robot and the new bad robot '👾'\n",
    "* At each turn of the game, a player gets to move in the world\n",
    "* Players only get to move according to `MOVES`\n",
    "* '⬛' are obstacles that neither robot can traverse\n",
    "* Each player knows the other player's current location\n",
    "* '🤖' wants to get to the '❤️' without being zapped\n",
    "* '👾' is trying to zap '🤖'\n",
    "* '🤖' wins if it gets to the '❤️'\n",
    "* '👾' wins if it zaps the good robot\n",
    "* The game is over when either player wins or we've reached 82 plies (41 good robot moves and 41 bad robot moves)"
   ]
  },
  {
   "cell_type": "markdown",
   "metadata": {},
   "source": [
    "## Adversarial Search\n",
    "\n",
    "\n",
    "The MINIMAX pseudocode is as follows:\n",
    "\n",
    "```\n",
    "MINIMAX(state) returns action\n",
    "    return argmax action in Actions MIN-VALUE(RESULT(state,action))\n",
    "    \n",
    "\n",
    "MAX-VALUE(state) returns value\n",
    "if TERMINAL(state) return UTILITY(state)\n",
    "v <- -inf\n",
    "for each action in Actions(state)\n",
    "    v <- MAX(v, MIN-VALUE(RESULT(state, action))\n",
    "return v\n",
    "\n",
    "\n",
    "MIN-VALUE(state) returns value\n",
    "if TERMINAL(state) return UTILITY(state)\n",
    "v <- +inf\n",
    "for each action in Actions(state)\n",
    "    v <- MIN(v, MAX-VALUE(RESULT(state, action))\n",
    "return v\n",
    "```\n",
    "\n",
    "MINIMAX is used to model the opponent as a rational player that will also try it's best to win. When moves are simulated in the tree, that's just what they are, simulations. The actual board only changes once MINIMAX returns an action. You will probably need to maintain a deep copy of the world. Instead of going all the way to terminal nodes, use a depth parameter."
   ]
  },
  {
   "cell_type": "markdown",
   "metadata": {},
   "source": [
    "## Problem #1\n",
    "\n",
    "\n",
    "Implement the game: players, actions, scores, keeping track of turns, when the game is over, how the world changes, and what strategy each player uses (random moves or MINIMAX). \n",
    "* '🤖' will use MINIMAX with a depth of 2 (simulate I move and then my opponent moves -- that's it) \n",
    "* '👾' will choose actions at random. \n",
    "* '🤖' utility function = Euclidean distance to '👾' - Euclidean distance to '❤️' (cares about getting to '❤️' and not being zapped by '👾') \n",
    "* '👾' utility function = - Euclidean distance to '🤖' (just cares about zapping '🤖')\n",
    "\n",
    "\n",
    "When the game is over, print out the world (nicer view) with the following changes:\n",
    "* Replace a '⬜' with '🟥' to indicate the path of '👾', \n",
    "* Replace '⬜' with '🟩' to indicate the path of '🤖', and\n",
    "* '🤖', '👾', '❤️', and '⬛' are not replaced."
   ]
  },
  {
   "cell_type": "code",
   "execution_count": 798,
   "metadata": {},
   "outputs": [],
   "source": [
    "# Your documentation, code, and tests start here."
   ]
  },
  {
   "cell_type": "code",
   "execution_count": 799,
   "metadata": {},
   "outputs": [],
   "source": [
    "import math\n",
    "import random"
   ]
  },
  {
   "cell_type": "markdown",
   "metadata": {},
   "source": [
    "<a id=\"euclidean_distance\"></a>\n",
    "## euclidean_distance\n",
    "\n",
    "This function calculates the Euclidean distance between two positions.\n",
    "\n",
    "* **coordinate1** tuple: x,y coordinates of the current position\n",
    "* **coordinate2** tuple: x,y coordinates of the goal position\n",
    "\n",
    "**returns** \n",
    "\n",
    "* **distance** float: the Euclidean distance between the two positions"
   ]
  },
  {
   "cell_type": "code",
   "execution_count": 800,
   "metadata": {},
   "outputs": [],
   "source": [
    "def euclidean_distance(coordinate1, coordinate2):\n",
    "    return math.sqrt((coordinate2[0] - coordinate1[0])**2 + (coordinate2[1] - coordinate1[1])**2)"
   ]
  },
  {
   "cell_type": "code",
   "execution_count": 801,
   "metadata": {},
   "outputs": [],
   "source": [
    "assert euclidean_distance((0, 0), (0, 0)) == 0\n",
    "\n",
    "assert math.isclose(euclidean_distance((0, 0), (3, 0)), 3.0)\n",
    "\n",
    "assert math.isclose(euclidean_distance((0, 0), (3, 4)), 5.0)"
   ]
  },
  {
   "cell_type": "markdown",
   "metadata": {},
   "source": [
    "<a id=\"good_utility\"></a>\n",
    "## good_utility\n",
    "\n",
    "This function calculates the utility value for the good robot\n",
    "\n",
    "* **robot_pos** tuple: x,y coordinates of the robot\n",
    "* **brobot_pos** tuple: x,y coordinates of the bad robot\n",
    "* **heart_pos** tuple: x,y coordinates of the heart\n",
    "\n",
    "**returns** \n",
    "\n",
    "* **distance** float: the utility value for the good robot"
   ]
  },
  {
   "cell_type": "code",
   "execution_count": 802,
   "metadata": {},
   "outputs": [],
   "source": [
    "def good_utility(good_pos, bad_pos, goal):\n",
    "    distance_to_bad = euclidean_distance(good_pos, bad_pos)\n",
    "    distance_to_goal = euclidean_distance(good_pos, goal)\n",
    "    return distance_to_bad - distance_to_goal"
   ]
  },
  {
   "cell_type": "code",
   "execution_count": 803,
   "metadata": {},
   "outputs": [],
   "source": [
    "assert math.isclose(good_utility((0, 0), (3, 0), (0, 1)), 2.0)\n",
    "\n",
    "assert math.isclose(good_utility((0, 0), (4, 0), (2, 0)), 2.0)\n",
    "\n",
    "assert math.isclose(good_utility((0, 0), (3, 0), (0, 3)), 0.0)"
   ]
  },
  {
   "cell_type": "markdown",
   "metadata": {},
   "source": [
    "<a id=\"bad_utility\"></a>\n",
    "## bad_utility\n",
    "\n",
    "This function calculates the utility value for the bad robot\n",
    "\n",
    "* **brobot_pos** tuple: x,y coordinates of the bad robot\n",
    "* **robot_pos** tuple: x,y coordinates of the robot\n",
    "\n",
    "**returns** \n",
    "\n",
    "* **distance** float: the utility value for the bad robot"
   ]
  },
  {
   "cell_type": "code",
   "execution_count": 804,
   "metadata": {},
   "outputs": [],
   "source": [
    "def bad_utility(bad_pos, good_pos, goal):\n",
    "    return -euclidean_distance(good_pos, bad_pos)"
   ]
  },
  {
   "cell_type": "code",
   "execution_count": 805,
   "metadata": {},
   "outputs": [],
   "source": [
    "assert math.isclose(bad_utility((3, 0), (0, 0), None), -3.0)\n",
    "\n",
    "assert math.isclose(bad_utility((1, 1), (1, 1), None), 0.0)\n",
    "\n",
    "assert math.isclose(bad_utility((3, 4), (0, 0), None), -5.0)\n"
   ]
  },
  {
   "cell_type": "markdown",
   "metadata": {},
   "source": [
    "<a id=\"bad_utility\"></a>\n",
    "## is_valid\n",
    "\n",
    "This function determines if a position is valid in the world (not out of bounds or blocked off)\n",
    "\n",
    "* **world** list of lists: the search area\n",
    "* **pos** tuple: current x,y position\n",
    "\n",
    "**returns** \n",
    "\n",
    "* **valid** boolean: if the move is valid"
   ]
  },
  {
   "cell_type": "code",
   "execution_count": 806,
   "metadata": {},
   "outputs": [],
   "source": [
    "def is_valid(world, pos):\n",
    "    x, y = pos\n",
    "    return 0 <= x < len(world) and 0 <= y < len(world[0]) and world[x][y] != '⬛'\n"
   ]
  },
  {
   "cell_type": "code",
   "execution_count": 807,
   "metadata": {},
   "outputs": [],
   "source": [
    "test_world = [\n",
    "    ['⬜', '⬜', '⬜', '⬛'],\n",
    "    ['⬜', '⬛', '⬜', '⬜'],\n",
    "    ['⬜', '⬜', '⬜', '⬛'],\n",
    "    ['⬜', '⬜', '⬜', '⬜']\n",
    "]\n",
    "\n",
    "assert is_valid(test_world, (0, 0)) == True\n",
    "assert is_valid(test_world, (1, 1)) == False\n",
    "assert is_valid(test_world, (3, 3)) == True\n"
   ]
  },
  {
   "cell_type": "markdown",
   "metadata": {},
   "source": [
    "<a id=\"get_valid_moves\"></a>\n",
    "## get_valid_moves\n",
    "\n",
    "This function returns a list of valid moves for a given current position in the world based on all the constraints.\n",
    "\n",
    "* **pos** tuple: coordinates of the current position\n",
    "* **world** list of lists: the search area\n",
    "* **moves** list of tuples: possible moves as dx, dy pairs\n",
    "\n",
    "**returns** \n",
    "\n",
    "* **moves** list of tuples: a list of valid moves"
   ]
  },
  {
   "cell_type": "code",
   "execution_count": 808,
   "metadata": {},
   "outputs": [],
   "source": [
    "def get_valid_moves(world, moves, cur):\n",
    "    valid_moves = []\n",
    "    for direction in moves:\n",
    "        next_position = (cur[0] + direction[0], cur[1] + direction[1])\n",
    "        if is_valid(world, next_position):\n",
    "            valid_moves.append(next_position)\n",
    "    return valid_moves\n"
   ]
  },
  {
   "cell_type": "code",
   "execution_count": 809,
   "metadata": {},
   "outputs": [],
   "source": [
    "test_world = [\n",
    "    ['⬜', '⬜', '⬜', '⬛'],\n",
    "    ['⬜', '⬛', '⬜', '⬜'],\n",
    "    ['⬜', '⬜', '⬜', '⬛'],\n",
    "    ['⬜', '⬜', '⬜', '⬜']\n",
    "]\n",
    "test_moves = [(0, 1), (0, -1), (1, 0), (-1, 0)]\n",
    "\n",
    "n = len(test_world) - 1\n",
    "\n",
    "assert get_valid_moves(test_world, test_moves, (0, 0)) == [(0, 1), (1, 0)]\n",
    "assert get_valid_moves(test_world, test_moves, (n, 0)) == [(3, 1), (2, 0)]\n",
    "assert get_valid_moves(test_world, test_moves, (0, n)) == [(0, 2), (1, 3)]\n"
   ]
  },
  {
   "cell_type": "markdown",
   "metadata": {},
   "source": [
    "<a id=\"get_valid_moves\"></a>\n",
    "## rand_strat\n",
    "\n",
    "This function returns a random valid move\n",
    "\n",
    "* **world** list of lists: the search area\n",
    "* **pos** tuple: coordinates of the current position\n",
    "* **moves** list of tuples: possible moves as dx, dy pairs\n",
    "\n",
    "**returns** \n",
    "\n",
    "* **tuple** tuple: valid, random move"
   ]
  },
  {
   "cell_type": "code",
   "execution_count": 810,
   "metadata": {},
   "outputs": [],
   "source": [
    "def rand_strat(world, cur_pos, moves):\n",
    "    valid_moves = get_valid_moves(world, moves, cur_pos)\n",
    "    return random.choice(valid_moves)"
   ]
  },
  {
   "cell_type": "code",
   "execution_count": 811,
   "metadata": {},
   "outputs": [],
   "source": [
    "test_world = [\n",
    "    ['⬜', '⬜', '⬜', '⬜'],\n",
    "    ['⬜', '⬛', '⬜', '⬜'],\n",
    "    ['⬜', '⬜', '⬜', '⬛'],\n",
    "    ['⬜', '⬜', '⬜', '⬜']\n",
    "]\n",
    "\n",
    "n = len(test_world) - 1\n",
    "\n",
    "assert rand_strat(test_world, (0, 0), test_moves) in [(0, 1), (1, 0)]\n",
    "assert rand_strat(test_world, (0, 3), test_moves) in [(0, 2), (1, 3)]\n",
    "assert rand_strat(test_world, (n, 0), test_moves) in [(n-1, 0), (n, 1)]\n",
    "\n",
    "\n"
   ]
  },
  {
   "cell_type": "markdown",
   "metadata": {},
   "source": [
    "<a id=\"zap_range\"></a>\n",
    "## zap_range\n",
    "\n",
    "This function determines whether the bad robot is within zap range of the good robot\n",
    "\n",
    "* **good_pos** tuple: coordinates of robot\n",
    "* **bad_pos** tuple: coordinates of the opposing current position\n",
    "\n",
    "**returns** \n",
    "\n",
    "* **withn_range** boolean: true if within zap range"
   ]
  },
  {
   "cell_type": "code",
   "execution_count": 812,
   "metadata": {},
   "outputs": [],
   "source": [
    "def zap_range(bad_pos, good_pos):\n",
    "    zap_moves = [(0, -1), (1, 0), (0, 1), (-1, 0), (1, 1), (1, -1), (-1, 1), (-1, -1)]\n",
    "    \n",
    "    for move in zap_moves:\n",
    "        new_pos = (bad_pos[0] + move[0], bad_pos[1] + move[1])\n",
    "        if is_valid(world, new_pos) and new_pos == good_pos:\n",
    "            return True\n",
    "            \n",
    "    return False"
   ]
  },
  {
   "cell_type": "code",
   "execution_count": 813,
   "metadata": {},
   "outputs": [],
   "source": [
    "assert zap_range((0, 0), (1, 1)) == True\n",
    "\n",
    "assert zap_range((0, 0), (2, 2)) == False\n",
    "\n",
    "assert zap_range((5, 5), (6, 6)) == True"
   ]
  },
  {
   "cell_type": "markdown",
   "metadata": {},
   "source": [
    "<a id=\"end_game\"></a>\n",
    "## end_game\n",
    " \n",
    "This function determines whether the game should end based on various conditions.\n",
    "\n",
    "* **bad_pos** tuple: coordinates of the bad robot\n",
    "* **good_pos** tuple: coordinates of the good robot\n",
    "* **good_moves** int: number of moves made by the good robot\n",
    "* **bad_moves** int: number of moves made by the bad robot\n",
    "* **goal** tuple: coordinates of the goal position\n",
    "\n",
    "**returns** \n",
    "\n",
    "* **boolean**: true if the game should end, based on zap range, move counts, or reaching the goal"
   ]
  },
  {
   "cell_type": "code",
   "execution_count": 814,
   "metadata": {},
   "outputs": [],
   "source": [
    "def end_game(bad_pos, good_pos, good_moves, bad_moves, goal):\n",
    "    return True if zap_range(bad_pos, good_pos) or (good_moves >= 41 and bad_moves >= 41) or (good_pos == goal) else False"
   ]
  },
  {
   "cell_type": "code",
   "execution_count": 815,
   "metadata": {},
   "outputs": [],
   "source": [
    "assert end_game((0, 0), (1, 1), 20, 20, (0, 0)) == True\n",
    "\n",
    "assert end_game((1, 1), (1, 1), 20, 20, (2, 2)) == False\n",
    "\n",
    "assert end_game((0, 0), (1, 1), 41, 41, (2, 2)) == True\n"
   ]
  },
  {
   "cell_type": "markdown",
   "metadata": {},
   "source": [
    "<a id=\"min_value\"></a>\n",
    "## min_value\n",
    "\n",
    "This function determines best move for a maximizing player\n",
    "\n",
    "* **world** list: the game world representation\n",
    "* **good_pos** tuple: coordinates of maximizing player\n",
    "* **bad_pos** tuple: coordinates of the minimizing player\n",
    "* **goal** tuple: coordinates of the goal position\n",
    "* **moves** list: possible moves for both players\n",
    "* **depth** int: the maximum depth of the search tree\n",
    "\n",
    "\n",
    "**returns** \n",
    "\n",
    "* **best_value** float: the best utitly value for the minimizing player\n",
    "* **best_move** tuple/None: the best move to make (None if at leaf node) for minimizing player"
   ]
  },
  {
   "cell_type": "code",
   "execution_count": 816,
   "metadata": {},
   "outputs": [],
   "source": [
    "def min_value(game_world, player_pos, opponent_pos, target_goal, available_moves, max_depth, is_maximizing, current_depth):\n",
    "    if current_depth == max_depth:\n",
    "        return good_utility(player_pos, opponent_pos, target_goal) if is_maximizing else bad_utility(player_pos, opponent_pos, target_goal)\n",
    "    \n",
    "    if is_maximizing:\n",
    "        if player_pos == target_goal:\n",
    "            return float('inf')\n",
    "        if zap_range(opponent_pos, player_pos):\n",
    "            return float('-inf')\n",
    "    elif zap_range(player_pos, opponent_pos):\n",
    "        return float('inf')\n",
    "    \n",
    "    value = float('inf')\n",
    "    valid_moves = get_valid_moves(game_world, available_moves, opponent_pos)\n",
    "    for move in valid_moves:\n",
    "        value = min(value, max_value(game_world, player_pos, move, target_goal, available_moves, max_depth, is_maximizing, current_depth + 1))\n",
    "    \n",
    "    return value"
   ]
  },
  {
   "cell_type": "code",
   "execution_count": 817,
   "metadata": {},
   "outputs": [],
   "source": [
    "assert min_value(world, (0, 0), (1, 1), goal, MOVES, 2, True, 0) is not None\n",
    "assert min_value(world, (2, 2), (3, 3), goal, MOVES, 2, True, 0) is not None\n",
    "assert min_value(world, (0, 1), (1, 0), goal, MOVES, 1, True, 0) is not None\n",
    "assert min_value(world, (3, 3), (0, 0), goal, MOVES, 2, False, 0) is not None"
   ]
  },
  {
   "cell_type": "markdown",
   "metadata": {},
   "source": [
    " <a id=\"max_value\"></a>\n",
    "## max_value\n",
    "\n",
    "This function determines best move for a maximizing player\n",
    "\n",
    "* **world** list: the game world representation\n",
    "* **good_pos** tuple: coordinates of maximizing player\n",
    "* **bad_pos** tuple: coordinates of the minimizing player\n",
    "* **goal** tuple: coordinates of the goal position\n",
    "* **moves** list: possible moves for both players\n",
    "* **depth** int: the maximum depth of the search tree\n",
    "\n",
    "\n",
    "**returns** \n",
    "\n",
    "* **best_value** float: the best utility value for the maximizing player\n",
    "* **best_move** tuple/None: the best move to make (None if at leaf node) for maximizing player"
   ]
  },
  {
   "cell_type": "code",
   "execution_count": 818,
   "metadata": {},
   "outputs": [],
   "source": [
    "def max_value(game_world, player_pos, opponent_pos, target_goal, available_moves, max_depth, is_maximizing, current_depth):\n",
    "    if current_depth == max_depth:\n",
    "        return good_utility(player_pos, opponent_pos, target_goal) if is_maximizing else bad_utility(player_pos, opponent_pos, target_goal)\n",
    "    \n",
    "    if is_maximizing:\n",
    "        if player_pos == target_goal:\n",
    "            return float('inf')\n",
    "        if zap_range(opponent_pos, player_pos):\n",
    "            return float('-inf')\n",
    "    elif zap_range(player_pos, opponent_pos):\n",
    "        return float('inf')\n",
    "    \n",
    "    value = float('-inf')\n",
    "    valid_moves = get_valid_moves(game_world, available_moves, player_pos)\n",
    "    for move in valid_moves:\n",
    "        value = max(value, min_value(game_world, move, opponent_pos, target_goal, available_moves, max_depth, is_maximizing, current_depth + 1))\n",
    "    \n",
    "    return value"
   ]
  },
  {
   "cell_type": "code",
   "execution_count": 819,
   "metadata": {},
   "outputs": [],
   "source": [
    "assert max_value(world, (0, 0), (1, 1), goal, MOVES, 2, True, 0) is not None\n",
    "assert max_value(world, (2, 2), (3, 3), goal, MOVES, 2, True, 0) is not None\n",
    "assert max_value(world, (0, 1), (1, 0), goal, MOVES, 1, True, 0) is not None\n",
    "assert max_value(world, (3, 3), (0, 0), goal, MOVES, 2, False, 0) is not None"
   ]
  },
  {
   "cell_type": "markdown",
   "metadata": {},
   "source": [
    "<a id=\"minimax\"></a>\n",
    "## MINIMAX\n",
    "\n",
    "This function determines the best move for the maximizing player using the MINIMAX algorithm.\n",
    "\n",
    "* **game_world** list: the game world representation\n",
    "* **player_pos** tuple: coordinates of the maximizing player\n",
    "* **target_goal** tuple: coordinates of the goal position\n",
    "* **opponent_pos** tuple: coordinates of the minimizing player\n",
    "* **available_moves** list: possible moves for both players\n",
    "* **max_depth** int: the maximum depth of the search tree\n",
    "* **is_maximizing** boolean: indicates if the current player is maximizing\n",
    "\n",
    "**returns** \n",
    "\n",
    "* **best_move** tuple: the best move to make for the maximizing player"
   ]
  },
  {
   "cell_type": "code",
   "execution_count": 820,
   "metadata": {},
   "outputs": [],
   "source": [
    "def MINIMAX(game_world, player_pos, target_goal, opponent_pos, available_moves, max_depth, is_maximizing):\n",
    "    value = float('-inf')\n",
    "    if max_depth < 1:\n",
    "        return None\n",
    "    \n",
    "    best_move = player_pos\n",
    "    valid_moves = get_valid_moves(game_world, available_moves, player_pos)\n",
    "    for move in valid_moves:\n",
    "        utility_value = min_value(game_world, move, opponent_pos, target_goal, available_moves, max_depth, is_maximizing, 1)\n",
    "        if value <= utility_value:\n",
    "            best_move = move\n",
    "            value = utility_value\n",
    "    \n",
    "    return best_move"
   ]
  },
  {
   "cell_type": "code",
   "execution_count": 821,
   "metadata": {},
   "outputs": [],
   "source": [
    "assert MINIMAX(world, (0, 0), goal, (1, 1), MOVES, 2, True) is not None\n",
    "assert MINIMAX(world, (2, 2), goal, (3, 3), MOVES, 2, True) is not None\n",
    "assert MINIMAX(world, (0, 1), goal, (1, 0), MOVES, 1, True) is not None\n",
    "assert MINIMAX(world, (3, 3), goal, (0, 0), MOVES, 2, False) is not None"
   ]
  },
  {
   "cell_type": "markdown",
   "metadata": {},
   "source": [
    "<a id=\"display_world\"></a>\n",
    "## display_world\n",
    "\n",
    "This function prints the current state of the world with the paths of the robot and bad robot.\n",
    "\n",
    "* **world** list of lists: the search area / 2D world representation\n",
    "* **gpath** set: set of all areas the robot has followed\n",
    "* **bpath** set: set of all areas the bad robot has followed\n",
    "* **gstart** tuple: starting position of robot\n",
    "* **bstart** tuple: starting position of bad robot\n",
    "* **goal** tuple: position of the goal\n",
    "\n",
    "**returns** \n",
    "\n",
    "Nothing, just prints the world. Therefore, there are no unit tests but instead just checking to match the print matches"
   ]
  },
  {
   "cell_type": "code",
   "execution_count": 822,
   "metadata": {},
   "outputs": [],
   "source": [
    "def display_world(world, gpath, bpath, gstart, bstart, goal):\n",
    "    symbols = {'gstart': '🤖', 'bstart': '👾', 'goal': '❤️', 'gpath': '🟩', 'bpath': '🟥'}\n",
    "    for x, row in enumerate(world):\n",
    "        print(''.join(\n",
    "            symbols['gstart'] if (x, y) == gstart else\n",
    "            symbols['bstart'] if (x, y) == bstart else\n",
    "            symbols['goal'] if (x, y) == goal else\n",
    "            symbols['gpath'] if gpath and (x, y) in gpath else\n",
    "            symbols['bpath'] if bpath and (x, y) in bpath else\n",
    "            cell\n",
    "            for y, cell in enumerate(row)\n",
    "        ))\n"
   ]
  },
  {
   "cell_type": "code",
   "execution_count": 823,
   "metadata": {},
   "outputs": [
    {
     "name": "stdout",
     "output_type": "stream",
     "text": [
      "Test Case 1:\n",
      "🤖🟩\n",
      "👾❤️\n",
      "\n",
      "\n",
      "Test Case 2:\n",
      "🤖🟩⬜️\n",
      "🟥🟩❤️\n",
      "👾⬜️⬜️\n",
      "\n",
      "\n",
      "Test Case 3:\n",
      "🤖⬜️⬜️⬜️\n",
      "⬜️⬛️⬛️⬜️\n",
      "⬜️⬛️⬛️⬜️\n",
      "👾⬜️⬜️❤️\n"
     ]
    }
   ],
   "source": [
    "test_world_1 = [['⬜️', '⬜️'], ['⬜️', '⬜️']]\n",
    "test_gstart_1 = (0, 0)\n",
    "test_bstart_1 = (1, 0)\n",
    "test_goal_1 = (1, 1)\n",
    "test_gpath_1 = [(0, 0), (0, 1), (1, 1)]\n",
    "test_bpath_1 = [(1, 0), (1, 1)]\n",
    "\n",
    "print(\"Test Case 1:\")\n",
    "display_world(test_world_1, test_gpath_1, test_bpath_1, test_gstart_1, test_bstart_1, test_goal_1)\n",
    "# Expected output:\n",
    "# 🤖🟩\n",
    "# 👾❤️\n",
    "\n",
    "print(\"\\n\")\n",
    "\n",
    "\n",
    "test_world_2 = [['⬜️', '⬜️', '⬜️'], ['⬜️', '⬜️', '⬜️'], ['⬜️', '⬜️', '⬜️']]\n",
    "test_gstart_2 = (0, 0)\n",
    "test_bstart_2 = (2, 0)\n",
    "test_goal_2 = (1, 2)\n",
    "test_gpath_2 = [(0, 0), (0, 1), (1, 1), (1, 2)]\n",
    "test_bpath_2 = [(2, 0), (1, 0), (1, 1), (1, 2)]\n",
    "\n",
    "print(\"Test Case 2:\")\n",
    "display_world(test_world_2, test_gpath_2, test_bpath_2, test_gstart_2, test_bstart_2, test_goal_2)\n",
    "# Expected output:\n",
    "# 🤖🟩⬜️\n",
    "# 🟥🟩❤️\n",
    "# 👾⬜️⬜️\n",
    "\n",
    "print(\"\\n\")\n",
    "\n",
    "\n",
    "test_world_3 = [\n",
    "    ['⬜️', '⬜️', '⬜️', '⬜️'],\n",
    "    ['⬜️', '⬛️', '⬛️', '⬜️'],\n",
    "    ['⬜️', '⬛️', '⬛️', '⬜️'],\n",
    "    ['⬜️', '⬜️', '⬜️', '⬜️']\n",
    "]\n",
    "test_gstart_3 = (0, 0)\n",
    "test_bstart_3 = (3, 0)\n",
    "test_goal_3 = (3, 3)\n",
    "test_gpath_3 = None\n",
    "test_bpath_3 = None\n",
    "\n",
    "print(\"Test Case 3:\")\n",
    "display_world(test_world_3, test_gpath_3, test_bpath_3, test_gstart_3, test_bstart_3, test_goal_3)\n",
    "# Expected output:\n",
    "# 🤖⬜️⬜️⬜️\n",
    "# ⬜️⬛️⬛️⬜️\n",
    "# ⬜️⬛️⬛️⬜️\n",
    "# 👾⬜️⬜️❤️\n"
   ]
  },
  {
   "cell_type": "markdown",
   "metadata": {},
   "source": [
    "<a id=\"breadth_first_search\"></a>\n",
    "## run_robot_game\n",
    "\n",
    "Description of your function.\n",
    "\n",
    "* **world** List[List[str]]: the search area\n",
    "* **good_start** Tuple[int, int]: the starting location of the good robot\n",
    "* **bad_start** Tuple[int, int]: the starting location of the bad robot\n",
    "* **goal** Tuple[int, int]: the goal location in the world\n",
    "* **moves** List[Tuple[int, int]]: the allowable moves in the world\n",
    "* **good_strategy** str: name of strategy to use for good robot: either random_strategy or MINIMAX with option to set depth\n",
    "* **bad_strategy** str: name of strategy to use for bad robot: either random_strategy or MINIMAX with option to set depth\n",
    "\n",
    "\n",
    "**returns** None (but prints out a nice view of the world and replaces appropriate cells)."
   ]
  },
  {
   "cell_type": "code",
   "execution_count": 824,
   "metadata": {},
   "outputs": [],
   "source": [
    "def run_robot_game(grid, start_good, start_bad, target, available_moves, strategy_good, depth_good, strategy_bad, depth_bad):\n",
    "    moves_good, moves_bad = 0, 0\n",
    "    position_good, position_bad = start_good, start_bad\n",
    "    path_good, path_bad = {start_good}, {start_bad}\n",
    "    \n",
    "    while moves_good < 41 and moves_bad < 41:\n",
    "        if end_game(position_bad, position_good, moves_good, moves_bad, target):\n",
    "            display_world(grid, path_good, path_bad, start_good, start_bad, target)\n",
    "            return\n",
    "        \n",
    "        position_good = (MINIMAX(grid, position_good, target, position_bad, available_moves, depth_good, True) \n",
    "                         if strategy_good == 'MINIMAX' \n",
    "                         else rand_strat(grid, position_good, available_moves))\n",
    "        path_good.add(position_good)\n",
    "        moves_good += 1\n",
    "        \n",
    "        if end_game(position_bad, position_good, moves_good, moves_bad, target):\n",
    "            display_world(grid, path_good, path_bad, start_good, start_bad, target)\n",
    "            return\n",
    "        \n",
    "        position_bad = (MINIMAX(grid, position_bad, target, position_good, available_moves, depth_bad, False) \n",
    "                        if strategy_bad == 'MINIMAX' \n",
    "                        else rand_strat(grid, position_bad, available_moves))\n",
    "        path_bad.add(position_bad)\n",
    "        moves_bad += 1\n",
    "    \n",
    "    display_world(grid, path_good, path_bad, start_good, start_bad, target)\n",
    "    return"
   ]
  },
  {
   "cell_type": "code",
   "execution_count": 825,
   "metadata": {},
   "outputs": [
    {
     "name": "stdout",
     "output_type": "stream",
     "text": [
      "🟩🟩🟩🟩🟩🟩🟩🟩🟩🟩🟩🟩🟩🟩🟩🟩🟩🟩🟩🟩❤️\n",
      "🟩⬜⬜⬜⬜⬜⬜⬜⬜⬜⬜⬜⬜⬜⬜⬜⬜⬜⬜⬜⬜\n",
      "🟩⬜⬜⬜⬜⬜⬜⬜⬜⬜⬜⬜⬜⬜⬜⬜⬜⬜⬜⬜⬜\n",
      "🟩⬜⬜⬜⬜⬜⬜⬜⬜⬜⬜⬜⬜⬜⬜⬜⬜⬜⬜⬜⬜\n",
      "🟩⬜⬜⬜⬜⬜⬜⬜⬜⬜⬜⬜⬜⬜⬜⬜⬜⬜⬜⬜⬜\n",
      "🟩⬜⬜⬜⬜⬜⬜⬜⬜⬜⬜⬜⬜⬜⬜⬜⬜⬜⬜⬜⬜\n",
      "🟩⬜⬜⬜⬜⬜⬜⬜⬜⬜⬜⬜⬜⬜⬜⬜⬜⬜⬜⬜⬜\n",
      "🟩⬜⬜⬜⬜⬜⬜⬜⬜⬜⬜⬜⬜⬜⬜⬜⬜⬜⬜⬜⬜\n",
      "🟩⬜⬜⬜⬜⬜⬜⬜⬜⬜⬜⬜⬜⬜⬜⬜⬜⬜⬜⬜⬜\n",
      "🟩⬜⬜⬜⬜⬜⬜⬜⬜⬛⬛⬛⬜⬜⬜⬜⬜⬜⬜⬜⬜\n",
      "🟩⬜⬜⬜⬜⬜⬜⬜⬜⬛⬛⬛⬜⬜⬜⬜⬜⬜⬜⬜⬜\n",
      "🟩⬜⬜⬜⬜⬜⬜⬜⬜⬛⬛⬛⬜⬜⬜⬜⬜⬜⬜⬜⬜\n",
      "🟩⬜⬜⬜⬜⬜⬜⬜⬜⬜⬜⬜⬜⬜⬜⬜⬜⬜⬜⬜⬜\n",
      "🟩⬜⬜⬜⬜⬜⬜⬜⬜⬜⬜⬜⬜⬜⬜⬜⬜⬜⬜⬜⬜\n",
      "🟩⬜⬜⬜⬜⬜⬜⬜⬜⬜⬜⬜⬜⬜⬜⬜⬜⬜⬜⬜⬜\n",
      "🟩⬜⬜⬜⬜⬜⬜⬜⬜⬜⬜⬜⬜⬜⬜⬜⬜⬜⬜⬜⬜\n",
      "🟩⬜⬜⬜⬜⬜⬜⬜⬜⬜⬜⬜⬜⬜⬜⬜⬜⬜🟥🟥🟥\n",
      "🟩⬜⬜⬜⬜⬜⬜⬜⬜⬜⬜⬜⬜⬜⬜⬜🟥🟥🟥⬜🟥\n",
      "🟩⬜⬜⬜⬜⬜⬜⬜⬜⬜⬜⬜⬜⬜⬜⬜🟥🟥🟥🟥🟥\n",
      "🟩⬜⬜⬜⬜⬜⬜⬜⬜⬜⬜⬜⬜⬜⬜🟥🟥🟥🟥🟥🟥\n",
      "🤖⬜⬜⬜⬜⬜⬜⬜⬜⬜⬜⬜⬜⬜⬜⬜🟥🟥⬜⬜👾\n"
     ]
    }
   ],
   "source": [
    "# Modify arguments, but when you uncomment the line below, it should ONLY print out a nice view of the world when the game is over\n",
    "\n",
    "result_1 = run_robot_game(world, good_start, bad_start, goal, MOVES, 'MINIMAX', 2, 'random', None)"
   ]
  },
  {
   "cell_type": "markdown",
   "metadata": {},
   "source": [
    "## Problem #2\n",
    "\n",
    "\n",
    "Play the game again, but in this problem, '🤖' and '👾' both use MINIMAX with a depth of 2."
   ]
  },
  {
   "cell_type": "code",
   "execution_count": 826,
   "metadata": {},
   "outputs": [
    {
     "name": "stdout",
     "output_type": "stream",
     "text": [
      "🟩🟩🟩🟩🟩🟩🟩🟩🟩🟩🟩🟩🟩🟩🟩🟩🟩🟩🟩🟩❤️\n",
      "🟩⬜⬜⬜⬜⬜⬜⬜⬜⬜⬜⬜⬜⬜⬜⬜⬜⬜⬜⬜⬜\n",
      "🟩⬜⬜⬜⬜⬜⬜⬜🟥🟥🟥🟥🟥🟥🟥🟥🟥🟥⬜⬜⬜\n",
      "🟩⬜⬜⬜⬜⬜⬜⬜🟥⬜⬜⬜⬜⬜⬜⬜⬜⬜⬜⬜⬜\n",
      "🟩⬜⬜⬜⬜⬜⬜⬜🟥⬜⬜⬜⬜⬜⬜⬜⬜⬜⬜⬜⬜\n",
      "🟩⬜⬜⬜⬜⬜⬜⬜🟥⬜⬜⬜⬜⬜⬜⬜⬜⬜⬜⬜⬜\n",
      "🟩⬜⬜⬜⬜⬜⬜⬜🟥⬜⬜⬜⬜⬜⬜⬜⬜⬜⬜⬜⬜\n",
      "🟩⬜⬜⬜⬜⬜⬜⬜🟥⬜⬜⬜⬜⬜⬜⬜⬜⬜⬜⬜⬜\n",
      "🟩⬜⬜⬜⬜⬜⬜⬜🟥⬜⬜⬜⬜⬜⬜⬜⬜⬜⬜⬜⬜\n",
      "🟩⬜⬜⬜⬜⬜⬜⬜🟥⬛⬛⬛⬜⬜⬜⬜⬜⬜⬜⬜⬜\n",
      "🟩⬜⬜⬜⬜⬜⬜⬜🟥⬛⬛⬛⬜⬜⬜⬜⬜⬜⬜⬜⬜\n",
      "🟩⬜⬜⬜⬜⬜⬜⬜🟥⬛⬛⬛⬜⬜⬜⬜⬜⬜⬜⬜⬜\n",
      "🟩⬜⬜⬜⬜⬜⬜⬜🟥🟥🟥🟥⬜⬜⬜⬜⬜⬜⬜⬜⬜\n",
      "🟩⬜⬜⬜⬜⬜⬜⬜⬜⬜⬜🟥⬜⬜⬜⬜⬜⬜⬜⬜⬜\n",
      "🟩⬜⬜⬜⬜⬜⬜⬜⬜⬜⬜🟥⬜⬜⬜⬜⬜⬜⬜⬜⬜\n",
      "🟩⬜⬜⬜⬜⬜⬜⬜⬜⬜⬜🟥⬜⬜⬜⬜⬜⬜⬜⬜⬜\n",
      "🟩⬜⬜⬜⬜⬜⬜⬜⬜⬜⬜🟥⬜⬜⬜⬜⬜⬜⬜⬜⬜\n",
      "🟩⬜⬜⬜⬜⬜⬜⬜⬜⬜⬜🟥⬜⬜⬜⬜⬜⬜⬜⬜⬜\n",
      "🟩⬜⬜⬜⬜⬜⬜⬜⬜⬜⬜🟥⬜⬜⬜⬜⬜⬜⬜⬜⬜\n",
      "🟩⬜⬜⬜⬜⬜⬜⬜⬜⬜⬜🟥⬜⬜⬜⬜⬜⬜⬜⬜⬜\n",
      "🤖⬜⬜⬜⬜⬜⬜⬜⬜⬜⬜🟥🟥🟥🟥🟥🟥🟥🟥🟥👾\n"
     ]
    }
   ],
   "source": [
    "# Modify arguments, but when you uncomment the line below, it should ONLY print out a nice view of the world when the game is over\n",
    "\n",
    "result_2 = run_robot_game(world, good_start, bad_start, goal, MOVES, 'MINIMAX', 2, 'MINIMAX', 2)"
   ]
  },
  {
   "cell_type": "markdown",
   "metadata": {},
   "source": [
    "## Problem #3\n",
    "\n",
    "\n",
    "Play the game again, but in this problem '🤖' uses a depth of 2; '👾' uses a depth of 8."
   ]
  },
  {
   "cell_type": "code",
   "execution_count": 827,
   "metadata": {},
   "outputs": [
    {
     "name": "stdout",
     "output_type": "stream",
     "text": [
      "🟩🟩🟩🟩🟩🟩🟩🟩🟩🟩⬜⬜⬜⬜⬜⬜⬜⬜⬜⬜❤️\n",
      "🟩⬜⬜⬜⬜⬜⬜⬜⬜⬜🟥⬜⬜⬜⬜⬜⬜⬜⬜⬜⬜\n",
      "🟩⬜⬜⬜⬜⬜⬜⬜⬜⬜🟥⬜⬜⬜⬜⬜⬜⬜⬜⬜⬜\n",
      "🟩⬜⬜⬜⬜⬜⬜⬜⬜⬜🟥⬜⬜⬜⬜⬜⬜⬜⬜⬜⬜\n",
      "🟩⬜⬜⬜⬜⬜⬜⬜⬜⬜🟥⬜⬜⬜⬜⬜⬜⬜⬜⬜⬜\n",
      "🟩⬜⬜⬜⬜⬜⬜⬜⬜⬜🟥⬜⬜⬜⬜⬜⬜⬜⬜⬜⬜\n",
      "🟩⬜⬜⬜⬜⬜⬜⬜⬜⬜🟥⬜⬜⬜⬜⬜⬜⬜⬜⬜⬜\n",
      "🟩⬜⬜⬜⬜⬜⬜⬜⬜⬜🟥🟥⬜⬜⬜⬜⬜⬜⬜⬜⬜\n",
      "🟩⬜⬜⬜⬜⬜⬜⬜⬜⬜⬜🟥🟥🟥⬜⬜⬜⬜⬜⬜⬜\n",
      "🟩⬜⬜⬜⬜⬜⬜⬜⬜⬛⬛⬛⬜🟥⬜⬜⬜⬜⬜⬜⬜\n",
      "🟩⬜⬜⬜⬜⬜⬜⬜⬜⬛⬛⬛⬜🟥⬜⬜⬜⬜⬜⬜⬜\n",
      "🟩⬜⬜⬜⬜⬜⬜⬜⬜⬛⬛⬛⬜🟥⬜⬜⬜⬜⬜⬜⬜\n",
      "🟩⬜⬜⬜⬜⬜⬜⬜⬜⬜⬜⬜⬜🟥🟥⬜⬜⬜⬜⬜⬜\n",
      "🟩⬜⬜⬜⬜⬜⬜⬜⬜⬜⬜⬜⬜⬜🟥⬜⬜⬜⬜⬜⬜\n",
      "🟩⬜⬜⬜⬜⬜⬜⬜⬜⬜⬜⬜⬜⬜🟥⬜⬜⬜⬜⬜⬜\n",
      "🟩⬜⬜⬜⬜⬜⬜⬜⬜⬜⬜⬜⬜⬜🟥⬜⬜⬜⬜⬜⬜\n",
      "🟩⬜⬜⬜⬜⬜⬜⬜⬜⬜⬜⬜⬜⬜🟥⬜⬜⬜⬜⬜⬜\n",
      "🟩⬜⬜⬜⬜⬜⬜⬜⬜⬜⬜⬜⬜⬜🟥⬜⬜⬜⬜⬜⬜\n",
      "🟩⬜⬜⬜⬜⬜⬜⬜⬜⬜⬜⬜⬜⬜🟥⬜⬜⬜⬜⬜⬜\n",
      "🟩⬜⬜⬜⬜⬜⬜⬜⬜⬜⬜⬜⬜⬜🟥⬜⬜⬜⬜⬜⬜\n",
      "🤖⬜⬜⬜⬜⬜⬜⬜⬜⬜⬜⬜⬜⬜🟥🟥🟥🟥🟥🟥👾\n"
     ]
    }
   ],
   "source": [
    "# Add your arguments, but when you uncomment the line below, it should ONLY print out a nice view of the world when the game is over\n",
    "\n",
    "# result_3 = run_robot_game(world, good_start, bad_start, goal, MOVES, good_strategy = MINIMAX of depth 2, bad_strategy = MINIMAX of depth 6\n",
    "\n",
    "result_3 = run_robot_game(world, good_start, bad_start, goal, MOVES, 'MINIMAX', 2, 'MINIMAX', 8 )"
   ]
  },
  {
   "cell_type": "markdown",
   "metadata": {},
   "source": [
    "## Problem #4\n",
    "\n",
    "\n",
    "Play the game again, but in this problem, '🤖' and '👾' both use a depth of 4 and utility function of '👾' = - Euclidean distance to '❤️' - Euclidean distance to '🤖' (it now knows the '❤️' means something to '🤖')."
   ]
  },
  {
   "cell_type": "markdown",
   "metadata": {},
   "source": [
    "<a id=\"bad_utility\"></a>\n",
    "## bad_utility\n",
    "\n",
    "This function calculates the new utility value for the bad robot\n",
    "\n",
    "* **brobot_pos** tuple: x,y coordinates of the bad robot\n",
    "* **robot_pos** tuple: x,y coordinates of the robot\n",
    "\n",
    "**returns** \n",
    "\n",
    "* **distance** float: the utility value for the bad robot"
   ]
  },
  {
   "cell_type": "code",
   "execution_count": 828,
   "metadata": {},
   "outputs": [],
   "source": [
    "def bad_utility(bad_pos, good_pos, goal):\n",
    "    return - euclidean_distance(goal, bad_pos) - euclidean_distance(good_pos, bad_pos)"
   ]
  },
  {
   "cell_type": "code",
   "execution_count": 829,
   "metadata": {},
   "outputs": [],
   "source": [
    "assert math.isclose(bad_utility((3, 3), (0, 0), (0, 0)), -euclidean_distance((0, 0), (3, 3)) - euclidean_distance((0, 0), (3, 3)))\n",
    "assert math.isclose(bad_utility((1, 1), (2, 2), (3, 3)), -euclidean_distance((3, 3), (1, 1)) - euclidean_distance((2, 2), (1, 1)))\n",
    "assert math.isclose(bad_utility((0, 0), (1, 1), (2, 2)), -euclidean_distance((2, 2), (0, 0)) - euclidean_distance((1, 1), (0, 0)))\n"
   ]
  },
  {
   "cell_type": "code",
   "execution_count": 830,
   "metadata": {},
   "outputs": [
    {
     "name": "stdout",
     "output_type": "stream",
     "text": [
      "🟩⬜⬜⬜⬜⬜⬜⬜⬜⬜⬜⬜⬜⬜⬜⬜⬜⬜⬜⬜❤️\n",
      "🟩⬜⬜⬜⬜⬜⬜⬜⬜⬜⬜⬜⬜⬜⬜⬜⬜⬜⬜⬜🟥\n",
      "🟩⬜⬜⬜⬜⬜⬜⬜⬜⬜⬜⬜⬜⬜⬜⬜⬜⬜⬜⬜🟥\n",
      "🟩⬜⬜⬜⬜⬜⬜⬜⬜⬜⬜⬜⬜⬜⬜⬜⬜⬜⬜⬜🟥\n",
      "🟩⬜⬜⬜⬜⬜⬜⬜⬜⬜⬜⬜⬜⬜⬜⬜⬜⬜⬜⬜🟥\n",
      "🟩⬜⬜⬜⬜⬜⬜⬜⬜⬜⬜⬜⬜⬜⬜⬜⬜⬜⬜⬜🟥\n",
      "🟩⬜⬜⬜⬜⬜⬜⬜⬜⬜⬜⬜⬜⬜⬜⬜⬜⬜⬜⬜🟥\n",
      "🟩⬜⬜⬜⬜⬜⬜⬜⬜⬜⬜⬜⬜⬜⬜⬜⬜⬜⬜⬜🟥\n",
      "🟩⬜⬜⬜⬜⬜⬜⬜⬜⬜⬜⬜⬜⬜⬜⬜⬜⬜⬜⬜🟥\n",
      "🟩⬜⬜⬜⬜⬜⬜⬜⬜⬛⬛⬛⬜⬜⬜⬜⬜⬜⬜⬜🟥\n",
      "🟩⬜⬜⬜⬜⬜⬜⬜⬜⬛⬛⬛⬜⬜⬜⬜⬜⬜⬜⬜🟥\n",
      "🟩⬜⬜⬜⬜⬜⬜⬜⬜⬛⬛⬛⬜⬜⬜⬜⬜⬜⬜⬜🟥\n",
      "🟩⬜⬜⬜⬜⬜⬜⬜⬜⬜⬜⬜⬜⬜⬜⬜⬜⬜⬜⬜🟥\n",
      "🟩⬜⬜⬜⬜⬜⬜⬜⬜⬜⬜⬜⬜⬜⬜⬜⬜⬜⬜⬜🟥\n",
      "🟩⬜⬜⬜⬜⬜⬜⬜⬜⬜⬜⬜⬜⬜⬜⬜⬜⬜⬜⬜🟥\n",
      "🟩⬜⬜⬜⬜⬜⬜⬜⬜⬜⬜⬜⬜⬜⬜⬜⬜⬜⬜⬜🟥\n",
      "🟩⬜⬜⬜⬜⬜⬜⬜⬜⬜⬜⬜⬜⬜⬜⬜⬜⬜⬜⬜🟥\n",
      "🟩⬜⬜⬜⬜⬜⬜⬜⬜⬜⬜⬜⬜⬜⬜⬜⬜⬜⬜⬜🟥\n",
      "🟩⬜⬜⬜⬜⬜⬜⬜⬜⬜⬜⬜⬜⬜⬜⬜⬜⬜⬜⬜🟥\n",
      "🟩⬜⬜⬜⬜⬜⬜⬜⬜⬜⬜⬜⬜⬜⬜⬜⬜⬜⬜⬜🟥\n",
      "🤖⬜⬜⬜⬜⬜⬜⬜⬜⬜⬜⬜⬜⬜⬜⬜⬜⬜⬜⬜👾\n"
     ]
    }
   ],
   "source": [
    "# Add your arguments, but this should ONLY print out a nice view of the world\n",
    "result_4 = run_robot_game(world, good_start, bad_start, goal, MOVES, 'MINIMAX', 4, 'MINIMAX', 4 )"
   ]
  },
  {
   "cell_type": "markdown",
   "metadata": {},
   "source": [
    "| Question | Comment | \n",
    "|------|------|\n",
    "|Did knowledge of '🤖' trying to get to '❤️' help '👾'? | No it did not. It simply caused both robots to stay on opposite side of the grid for 41 turns each. The new bad robot utility simply caused them to do this. |"
   ]
  },
  {
   "cell_type": "markdown",
   "metadata": {},
   "source": [
    "## Before You Submit...\n",
    "\n",
    "1. Re-read the general instructions provided above, and\n",
    "2. Hit \"Kernel\"->\"Restart & Run All\"."
   ]
  }
 ],
 "metadata": {
  "kernelspec": {
   "display_name": "base",
   "language": "python",
   "name": "python3"
  },
  "language_info": {
   "codemirror_mode": {
    "name": "ipython",
    "version": 3
   },
   "file_extension": ".py",
   "mimetype": "text/x-python",
   "name": "python",
   "nbconvert_exporter": "python",
   "pygments_lexer": "ipython3",
   "version": "3.9.7"
  },
  "toc": {
   "colors": {
    "hover_highlight": "#DAA520",
    "navigate_num": "#000000",
    "navigate_text": "#333333",
    "running_highlight": "#FF0000",
    "selected_highlight": "#FFD700",
    "sidebar_border": "#EEEEEE",
    "wrapper_background": "#FFFFFF"
   },
   "moveMenuLeft": true,
   "nav_menu": {
    "height": "192px",
    "width": "252px"
   },
   "navigate_menu": true,
   "number_sections": true,
   "sideBar": true,
   "threshold": 4,
   "toc_cell": false,
   "toc_section_display": "block",
   "toc_window_display": false,
   "widenNotebook": false
  }
 },
 "nbformat": 4,
 "nbformat_minor": 4
}
