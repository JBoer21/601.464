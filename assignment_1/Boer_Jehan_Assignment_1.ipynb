{
 "cells": [
  {
   "cell_type": "markdown",
   "metadata": {},
   "source": [
    "# Artificial Intelligence\n",
    "# 464/664\n",
    "# Assignment #1\n",
    "\n",
    "## General Directions for this Assignment\n",
    "\n",
    "00. We're using a Jupyter Notebook environment (tutorial available here: https://jupyter-notebook-beginner-guide.readthedocs.io/en/latest/what_is_jupyter.html),\n",
    "01. Read the entire notebook before beginning your work, \n",
    "02. Output format should be exactly as requested, \n",
    "03. Each helper function should be preceeded by documentation (Markdown cell), \n",
    "04. Each helper function should be followed by three assert-style unit tests,\n",
    "05. No comments in the code; anything worth mentioning should be included in the documentation,\n",
    "06. Keep functions to 20 lines or less (including space so do not add any),\n",
    "07. Do not use classes, \n",
    "08. Use descriptive variable names,\n",
    "09. Functions should do only one thing,\n",
    "10. Check submission deadline on Gradescope, \n",
    "11. Rename the file to Last_First_assignment_1, \n",
    "12. Submit your notebook (as .ipynb, not PDF) using Gradescope, and\n",
    "13. Do not submit any other files.\n",
    "\n",
    "## Before You Submit...\n",
    "\n",
    "1. Re-read the general instructions provided above, and\n",
    "2. Hit \"Kernel\"->\"Restart & Run All\"."
   ]
  },
  {
   "cell_type": "markdown",
   "metadata": {},
   "source": [
    "## The World\n",
    "\n",
    "A `List of Lists` is used to represent the world. Cells marked as '⬛' are obstacles in the world and are not traversable."
   ]
  },
  {
   "cell_type": "code",
   "execution_count": 1,
   "metadata": {},
   "outputs": [],
   "source": [
    "world = [\n",
    "['⬜','⬜','⬜','⬜','⬜','⬜','⬜','⬜','⬜','⬜','⬜','⬜','⬜','⬜','⬜','⬜','⬜','⬜','⬜','⬜','⬜'],\n",
    "['⬜','⬜','⬜','⬜','⬜','⬜','⬜','⬜','⬜','⬜','⬜','⬜','⬜','⬜','⬜','⬜','⬜','⬜','⬜','⬜','⬜'],\n",
    "['⬜','⬜','⬜','⬜','⬜','⬜','⬜','⬜','⬜','⬜','⬜','⬜','⬜','⬜','⬜','⬜','⬜','⬜','⬜','⬜','⬜'],\n",
    "['⬜','⬜','⬜','⬜','⬜','⬜','⬜','⬜','⬜','⬜','⬜','⬜','⬜','⬜','⬜','⬜','⬜','⬜','⬜','⬜','⬜'],\n",
    "['⬜','⬜','⬜','⬜','⬜','⬜','⬜','⬜','⬜','⬜','⬜','⬜','⬜','⬜','⬜','⬜','⬜','⬜','⬜','⬜','⬜'],\n",
    "['⬜','⬜','⬜','⬜','⬜','⬜','⬜','⬜','⬜','⬜','⬜','⬜','⬜','⬜','⬜','⬜','⬜','⬜','⬜','⬜','⬜'],\n",
    "['⬜','⬜','⬜','⬜','⬜','⬜','⬜','⬜','⬜','⬜','⬜','⬜','⬜','⬜','⬜','⬜','⬜','⬜','⬜','⬜','⬜'],\n",
    "['⬜','⬜','⬜','⬜','⬜','⬜','⬜','⬜','⬜','⬜','⬜','⬜','⬜','⬜','⬜','⬜','⬜','⬜','⬜','⬜','⬜'],\n",
    "['⬜','⬜','⬜','⬜','⬜','⬜','⬜','⬜','⬜','⬜','⬜','⬜','⬜','⬜','⬜','⬜','⬜','⬜','⬜','⬜','⬜'],\n",
    "['⬜','⬜','⬜','⬜','⬜','⬜','⬜','⬜','⬜','⬛','⬛','⬛','⬜','⬜','⬜','⬜','⬜','⬜','⬜','⬜','⬜'],\n",
    "['⬜','⬜','⬜','⬜','⬜','⬜','⬜','⬜','⬜','⬛','⬛','⬛','⬜','⬜','⬜','⬜','⬜','⬜','⬜','⬜','⬜'],\n",
    "['⬜','⬜','⬜','⬜','⬜','⬜','⬜','⬜','⬜','⬛','⬛','⬛','⬜','⬜','⬜','⬜','⬜','⬜','⬜','⬜','⬜'],\n",
    "['⬜','⬜','⬜','⬜','⬜','⬜','⬜','⬜','⬜','⬜','⬜','⬜','⬜','⬜','⬜','⬜','⬜','⬜','⬜','⬜','⬜'],\n",
    "['⬜','⬜','⬜','⬜','⬜','⬜','⬜','⬜','⬜','⬜','⬜','⬜','⬜','⬜','⬜','⬜','⬜','⬜','⬜','⬜','⬜'],\n",
    "['⬜','⬜','⬜','⬜','⬜','⬜','⬜','⬜','⬜','⬜','⬜','⬜','⬜','⬜','⬜','⬜','⬜','⬜','⬜','⬜','⬜'],\n",
    "['⬜','⬜','⬜','⬜','⬜','⬜','⬜','⬜','⬜','⬜','⬜','⬜','⬜','⬜','⬜','⬜','⬜','⬜','⬜','⬜','⬜'],\n",
    "['⬜','⬜','⬜','⬜','⬜','⬜','⬜','⬜','⬜','⬜','⬜','⬜','⬜','⬜','⬜','⬜','⬜','⬜','⬜','⬜','⬜'],\n",
    "['⬜','⬜','⬜','⬜','⬜','⬜','⬜','⬜','⬜','⬜','⬜','⬜','⬜','⬜','⬜','⬜','⬜','⬜','⬜','⬜','⬜'],\n",
    "['⬜','⬜','⬜','⬜','⬜','⬜','⬜','⬜','⬜','⬜','⬜','⬜','⬜','⬜','⬜','⬜','⬜','⬜','⬜','⬜','⬜'],\n",
    "['⬜','⬜','⬜','⬜','⬜','⬜','⬜','⬜','⬜','⬜','⬜','⬜','⬜','⬜','⬜','⬜','⬜','⬜','⬜','⬜','⬜'],\n",
    "['⬜','⬜','⬜','⬜','⬜','⬜','⬜','⬜','⬜','⬜','⬜','⬜','⬜','⬜','⬜','⬜','⬜','⬜','⬜','⬜','⬜']]"
   ]
  },
  {
   "cell_type": "code",
   "execution_count": 2,
   "metadata": {},
   "outputs": [
    {
     "name": "stdout",
     "output_type": "stream",
     "text": [
      "⬜⬜⬜⬜⬜⬜⬜⬜⬜⬜⬜⬜⬜⬜⬜⬜⬜⬜⬜⬜⬜\n",
      "⬜⬜⬜⬜⬜⬜⬜⬜⬜⬜⬜⬜⬜⬜⬜⬜⬜⬜⬜⬜⬜\n",
      "⬜⬜⬜⬜⬜⬜⬜⬜⬜⬜⬜⬜⬜⬜⬜⬜⬜⬜⬜⬜⬜\n",
      "⬜⬜⬜⬜⬜⬜⬜⬜⬜⬜⬜⬜⬜⬜⬜⬜⬜⬜⬜⬜⬜\n",
      "⬜⬜⬜⬜⬜⬜⬜⬜⬜⬜⬜⬜⬜⬜⬜⬜⬜⬜⬜⬜⬜\n",
      "⬜⬜⬜⬜⬜⬜⬜⬜⬜⬜⬜⬜⬜⬜⬜⬜⬜⬜⬜⬜⬜\n",
      "⬜⬜⬜⬜⬜⬜⬜⬜⬜⬜⬜⬜⬜⬜⬜⬜⬜⬜⬜⬜⬜\n",
      "⬜⬜⬜⬜⬜⬜⬜⬜⬜⬜⬜⬜⬜⬜⬜⬜⬜⬜⬜⬜⬜\n",
      "⬜⬜⬜⬜⬜⬜⬜⬜⬜⬜⬜⬜⬜⬜⬜⬜⬜⬜⬜⬜⬜\n",
      "⬜⬜⬜⬜⬜⬜⬜⬜⬜⬛⬛⬛⬜⬜⬜⬜⬜⬜⬜⬜⬜\n",
      "⬜⬜⬜⬜⬜⬜⬜⬜⬜⬛⬛⬛⬜⬜⬜⬜⬜⬜⬜⬜⬜\n",
      "⬜⬜⬜⬜⬜⬜⬜⬜⬜⬛⬛⬛⬜⬜⬜⬜⬜⬜⬜⬜⬜\n",
      "⬜⬜⬜⬜⬜⬜⬜⬜⬜⬜⬜⬜⬜⬜⬜⬜⬜⬜⬜⬜⬜\n",
      "⬜⬜⬜⬜⬜⬜⬜⬜⬜⬜⬜⬜⬜⬜⬜⬜⬜⬜⬜⬜⬜\n",
      "⬜⬜⬜⬜⬜⬜⬜⬜⬜⬜⬜⬜⬜⬜⬜⬜⬜⬜⬜⬜⬜\n",
      "⬜⬜⬜⬜⬜⬜⬜⬜⬜⬜⬜⬜⬜⬜⬜⬜⬜⬜⬜⬜⬜\n",
      "⬜⬜⬜⬜⬜⬜⬜⬜⬜⬜⬜⬜⬜⬜⬜⬜⬜⬜⬜⬜⬜\n",
      "⬜⬜⬜⬜⬜⬜⬜⬜⬜⬜⬜⬜⬜⬜⬜⬜⬜⬜⬜⬜⬜\n",
      "⬜⬜⬜⬜⬜⬜⬜⬜⬜⬜⬜⬜⬜⬜⬜⬜⬜⬜⬜⬜⬜\n",
      "⬜⬜⬜⬜⬜⬜⬜⬜⬜⬜⬜⬜⬜⬜⬜⬜⬜⬜⬜⬜⬜\n",
      "⬜⬜⬜⬜⬜⬜⬜⬜⬜⬜⬜⬜⬜⬜⬜⬜⬜⬜⬜⬜⬜\n"
     ]
    }
   ],
   "source": [
    "# A nicer view of the world, without commas and brackets\n",
    "for row in world:\n",
    "    print(\"\".join(row))"
   ]
  },
  {
   "cell_type": "markdown",
   "metadata": {},
   "source": [
    "## Robot\n",
    "\n",
    "Our robot '🤖' starts at the bottom left and can either move up, down, left, or right. It's looking for the '❤️' in the world. "
   ]
  },
  {
   "cell_type": "code",
   "execution_count": 3,
   "metadata": {},
   "outputs": [],
   "source": [
    "MOVES = [(-1,0), (0,1), (1,0), (0,-1)] # Up Right Down Left"
   ]
  },
  {
   "cell_type": "code",
   "execution_count": 4,
   "metadata": {},
   "outputs": [],
   "source": [
    "start = (len(world)-1, 0)"
   ]
  },
  {
   "cell_type": "code",
   "execution_count": 5,
   "metadata": {},
   "outputs": [],
   "source": [
    "goal = (0, len(world)-1)"
   ]
  },
  {
   "cell_type": "code",
   "execution_count": 6,
   "metadata": {},
   "outputs": [],
   "source": [
    "# Update the world with this information\n",
    "world[start[0]][start[1]] = '🤖'\n",
    "world[goal[0]][goal[1]] = '❤️'"
   ]
  },
  {
   "cell_type": "code",
   "execution_count": 7,
   "metadata": {},
   "outputs": [
    {
     "name": "stdout",
     "output_type": "stream",
     "text": [
      "⬜⬜⬜⬜⬜⬜⬜⬜⬜⬜⬜⬜⬜⬜⬜⬜⬜⬜⬜⬜❤️\n",
      "⬜⬜⬜⬜⬜⬜⬜⬜⬜⬜⬜⬜⬜⬜⬜⬜⬜⬜⬜⬜⬜\n",
      "⬜⬜⬜⬜⬜⬜⬜⬜⬜⬜⬜⬜⬜⬜⬜⬜⬜⬜⬜⬜⬜\n",
      "⬜⬜⬜⬜⬜⬜⬜⬜⬜⬜⬜⬜⬜⬜⬜⬜⬜⬜⬜⬜⬜\n",
      "⬜⬜⬜⬜⬜⬜⬜⬜⬜⬜⬜⬜⬜⬜⬜⬜⬜⬜⬜⬜⬜\n",
      "⬜⬜⬜⬜⬜⬜⬜⬜⬜⬜⬜⬜⬜⬜⬜⬜⬜⬜⬜⬜⬜\n",
      "⬜⬜⬜⬜⬜⬜⬜⬜⬜⬜⬜⬜⬜⬜⬜⬜⬜⬜⬜⬜⬜\n",
      "⬜⬜⬜⬜⬜⬜⬜⬜⬜⬜⬜⬜⬜⬜⬜⬜⬜⬜⬜⬜⬜\n",
      "⬜⬜⬜⬜⬜⬜⬜⬜⬜⬜⬜⬜⬜⬜⬜⬜⬜⬜⬜⬜⬜\n",
      "⬜⬜⬜⬜⬜⬜⬜⬜⬜⬛⬛⬛⬜⬜⬜⬜⬜⬜⬜⬜⬜\n",
      "⬜⬜⬜⬜⬜⬜⬜⬜⬜⬛⬛⬛⬜⬜⬜⬜⬜⬜⬜⬜⬜\n",
      "⬜⬜⬜⬜⬜⬜⬜⬜⬜⬛⬛⬛⬜⬜⬜⬜⬜⬜⬜⬜⬜\n",
      "⬜⬜⬜⬜⬜⬜⬜⬜⬜⬜⬜⬜⬜⬜⬜⬜⬜⬜⬜⬜⬜\n",
      "⬜⬜⬜⬜⬜⬜⬜⬜⬜⬜⬜⬜⬜⬜⬜⬜⬜⬜⬜⬜⬜\n",
      "⬜⬜⬜⬜⬜⬜⬜⬜⬜⬜⬜⬜⬜⬜⬜⬜⬜⬜⬜⬜⬜\n",
      "⬜⬜⬜⬜⬜⬜⬜⬜⬜⬜⬜⬜⬜⬜⬜⬜⬜⬜⬜⬜⬜\n",
      "⬜⬜⬜⬜⬜⬜⬜⬜⬜⬜⬜⬜⬜⬜⬜⬜⬜⬜⬜⬜⬜\n",
      "⬜⬜⬜⬜⬜⬜⬜⬜⬜⬜⬜⬜⬜⬜⬜⬜⬜⬜⬜⬜⬜\n",
      "⬜⬜⬜⬜⬜⬜⬜⬜⬜⬜⬜⬜⬜⬜⬜⬜⬜⬜⬜⬜⬜\n",
      "⬜⬜⬜⬜⬜⬜⬜⬜⬜⬜⬜⬜⬜⬜⬜⬜⬜⬜⬜⬜⬜\n",
      "🤖⬜⬜⬜⬜⬜⬜⬜⬜⬜⬜⬜⬜⬜⬜⬜⬜⬜⬜⬜⬜\n"
     ]
    }
   ],
   "source": [
    "# A nicer view of the world, without commas and brackets\n",
    "for row in world:\n",
    "    print(\"\".join(row))"
   ]
  },
  {
   "cell_type": "markdown",
   "metadata": {},
   "source": [
    "## Search\n",
    "\n",
    "\n",
    "A general search pseudocode is as follows:\n",
    "\n",
    "```\n",
    "search:\n",
    "    Initialize frontier (and add start node)\n",
    "    Initialize explored (and add start node)\n",
    "    \n",
    "    while frontier is not empy:\n",
    "        \n",
    "        node <- remove a node from frontier\n",
    "        \n",
    "        if node is goal, return\n",
    "        \n",
    "        for each child of node:\n",
    "            add child to frontier (based on some conditions)\n",
    "            add child to explored\n",
    "```\n",
    "\n",
    "Now, this is the general idea. How we deal with the frontier (implementation, queue, priority queue, stack, list, dictionary, and so on) and some of the conditions is going to differentiate whether this leads to breadth-first, depth-first, or A$^*$. \n",
    "\n",
    "\n",
    "Note. The frontier basically keeps track of what will be considered next. \n",
    "\n",
    "\n",
    "Note. We're looking for a path to goal (Problems 1-3 below) and not just an ability to find it; you'll need some bookkepping code to be able to keep track of how to construct the resulting path. "
   ]
  },
  {
   "cell_type": "markdown",
   "metadata": {},
   "source": [
    "## Important Note\n",
    "When implementing, consider the priority of MOVES when creating children for a node in the tree.  \n",
    "MOVES = [(-1,0), (0,1), (1,0), (0,-1)] (which is Up Right Down Left)  \n",
    "In order to get the correct outputs, stick to this priority when creating the tree."
   ]
  },
  {
   "cell_type": "markdown",
   "metadata": {},
   "source": [
    "## Problem #1\n",
    "\n",
    "\n",
    "Implement a breadth-first search function to help the robot find a path to goal. \n",
    "\n",
    "\n",
    "The output should look like the output above (nicer view of the world), with the following changes:\n",
    "\n",
    "\n",
    "* Replace a '⬜' with '🟨' if that cell was ever placed in the frontier, \n",
    "* Replace '⬜' with '🟩' to indicate the path found by the robot, and\n",
    "* '🤖', '❤️', and '⬛' are not replaced."
   ]
  },
  {
   "cell_type": "markdown",
   "metadata": {},
   "source": [
    "Consider the following starting tree for reference:\n",
    "<img src=\"BFS_Tree.png\" alt=\"BFS_Tree\" width=\"500\"/>  \n",
    "  \n",
    "    \n",
    "Since it is BFS, it will keep traverse every node in the level while opening their children and then move to the next level."
   ]
  },
  {
   "cell_type": "markdown",
   "metadata": {},
   "source": [
    "Consider this starting output for this problem:  \n",
    "<img src=\"BFS_Output.png\" alt=\"BFS_Output\" width=\"275\"/>"
   ]
  },
  {
   "cell_type": "code",
   "execution_count": 8,
   "metadata": {},
   "outputs": [],
   "source": [
    "# feel free to add imports below this cell. See example below:"
   ]
  },
  {
   "cell_type": "code",
   "execution_count": 9,
   "metadata": {},
   "outputs": [],
   "source": [
    "from copy import deepcopy\n",
    "import math\n",
    "from collections import deque\n",
    "import heapq"
   ]
  },
  {
   "cell_type": "code",
   "execution_count": 10,
   "metadata": {},
   "outputs": [],
   "source": [
    "# feel free to add helper functions below this cell. See example below:"
   ]
  },
  {
   "cell_type": "markdown",
   "metadata": {},
   "source": [
    "<a id=\"is_valid_position\"></a>\n",
    "## is_valid_position\n",
    "\n",
    "This function checks if a given position is valid within the world. A position is considered valid if it's within the world boundaries and not an obstacle or already visited.\n",
    "\n",
    "* **position** tuple: coordinate of world to check\n",
    "* **world** list of lists: the search area\n",
    "\n",
    "\n",
    "**returns** \n",
    "\n",
    "* **is_valid** bool: True if the position is valid, False otherwise"
   ]
  },
  {
   "cell_type": "code",
   "execution_count": 11,
   "metadata": {},
   "outputs": [],
   "source": [
    "def is_valid_position(position, world):\n",
    "    x, y = position\n",
    "    return 0 <= x < len(world) and 0 <= y < len(world[0]) and world[x][y] != '⬛'"
   ]
  },
  {
   "cell_type": "code",
   "execution_count": 12,
   "metadata": {},
   "outputs": [],
   "source": [
    "assert is_valid_position((0, 0), [['⬜']]) == True\n",
    "assert is_valid_position((-1, 0), [['⬜']]) == False\n",
    "assert is_valid_position((0, 0), [['⬛']]) == False"
   ]
  },
  {
   "cell_type": "markdown",
   "metadata": {},
   "source": [
    "<a id=\"get_valid_neighbors\"></a>\n",
    "## get_valid_neighbors\n",
    "\n",
    "This function returns a list of valid neighboring positions for a given current position in the world.\n",
    "\n",
    "* **cur_position** tuple: coordinates of the current position\n",
    "* **world** list of lists: the search area\n",
    "* **moves** list of tuples: possible moves as dx, dy pairs\n",
    "\n",
    "**returns** \n",
    "\n",
    "* **neighbors** list of tuples: a list of valid neighboring positions"
   ]
  },
  {
   "cell_type": "code",
   "execution_count": 13,
   "metadata": {},
   "outputs": [],
   "source": [
    "def get_valid_neighbors(cur_position, world, moves):\n",
    "    x, y = cur_position\n",
    "    potential = []\n",
    "\n",
    "    for dx, dy in moves:\n",
    "        new_x, new_y = x + dx, y + dy\n",
    "        potential.append((new_x, new_y))\n",
    "\n",
    "    return [pos for pos in potential if is_valid_position(pos, world)]"
   ]
  },
  {
   "cell_type": "code",
   "execution_count": 14,
   "metadata": {},
   "outputs": [],
   "source": [
    "test_world = [['⬜', '⬛'], \n",
    "              ['⬜', '⬜']]\n",
    "test_moves = [(-1, 0), (1, 0), (0, -1), (0, 1)]\n",
    "assert get_valid_neighbors((0, 0), test_world, test_moves) == [(1, 0)]\n",
    "assert get_valid_neighbors((1, 0), test_world, test_moves) == [(0, 0), (1, 1)]\n",
    "assert get_valid_neighbors((1, 1), test_world, test_moves) == [(1, 0)]"
   ]
  },
  {
   "cell_type": "markdown",
   "metadata": {},
   "source": [
    "<a id=\"display_world\"></a>\n",
    "## display_world\n",
    "\n",
    "This function prints the current state of the world.\n",
    "\n",
    "* **world** list of lists: the search area / 2D world representation\n",
    "\n",
    "**returns** \n",
    "\n",
    "Nothing, just prints the world. Therefore, there are no unit tests but instead just checking to match the print matches"
   ]
  },
  {
   "cell_type": "code",
   "execution_count": 15,
   "metadata": {},
   "outputs": [],
   "source": [
    "def display_world(world, path, visited, start, goal):\n",
    "    symbols = {'start': '🤖', 'goal': '❤️', 'path': '🟩', 'visited': '🟨'}\n",
    "    for x, row in enumerate(world):\n",
    "        print(''.join(\n",
    "            symbols['start'] if (x, y) == start else\n",
    "            symbols['goal'] if (x, y) == goal else\n",
    "            symbols['path'] if path and (x, y) in path else\n",
    "            symbols['visited'] if (x, y) in visited else\n",
    "            cell\n",
    "            for y, cell in enumerate(row)\n",
    "        ))\n"
   ]
  },
  {
   "cell_type": "code",
   "execution_count": 16,
   "metadata": {},
   "outputs": [
    {
     "name": "stdout",
     "output_type": "stream",
     "text": [
      "🤖⬜️\n",
      "⬜️❤️\n",
      "\n",
      "🤖🟩🟨\n",
      "🟨🟩🟨\n",
      "⬜️🟩❤️\n",
      "\n",
      "🤖🟨⬜️\n",
      "🟨⬛️🟨\n",
      "⬜️🟨❤️\n"
     ]
    }
   ],
   "source": [
    "test_world_1 = [['⬜️', '⬜️'], ['⬜️', '⬜️']]\n",
    "test_start_1 = (0, 0)\n",
    "test_goal_1 = (1, 1)\n",
    "test_path_1 = None\n",
    "test_visited_1 = set()\n",
    "\n",
    "display_world(test_world_1, test_path_1, test_visited_1, test_start_1, test_goal_1)\n",
    "# Matches:\n",
    "# 🤖⬜️\n",
    "# ⬜️❤️\n",
    "\n",
    "print()\n",
    "\n",
    "test_world_2 = [['⬜️', '⬜️', '⬜️'], ['⬜️', '⬜️', '⬜️'], ['⬜️', '⬜️', '⬜️']]\n",
    "test_start_2 = (0, 0)\n",
    "test_goal_2 = (2, 2)\n",
    "test_path_2 = [(0, 0), (0, 1), (1, 1), (2, 1), (2, 2)]\n",
    "test_visited_2 = set([(0, 2), (1, 0), (1, 2)])\n",
    "\n",
    "display_world(test_world_2, test_path_2, test_visited_2, test_start_2, test_goal_2)\n",
    "# Matches:\n",
    "# 🤖🟩⬜️\n",
    "# 🟨🟩🟨\n",
    "# ⬜️🟩❤️\n",
    "\n",
    "print()\n",
    "\n",
    "test_world_3 = [['⬜️', '⬜️', '⬜️'], ['⬜️', '⬛️', '⬜️'], ['⬜️', '⬜️', '⬜️']]\n",
    "test_start_3 = (0, 0)\n",
    "test_goal_3 = (2, 2)\n",
    "test_path_3 = None\n",
    "test_visited_3 = set([(0, 1), (1, 0), (1, 2), (2, 1)])\n",
    "\n",
    "display_world(test_world_3, test_path_3, test_visited_3, test_start_3, test_goal_3)\n",
    "# Matches:\n",
    "# 🤖🟨⬜️\n",
    "# 🟨⬛️🟨\n",
    "# ⬜️🟨❤️\n"
   ]
  },
  {
   "cell_type": "markdown",
   "metadata": {},
   "source": [
    "<a id=\"reconstruct_path\"></a>\n",
    "## reconstruct_path\n",
    "\n",
    "This function reconstructs the path from start to goal. \n",
    "\n",
    "* **came_from** dict: dictionary mapping each position to its predecessor\n",
    "* **start** tuple: coordinates of the start position\n",
    "* **goal** tuple: coordinates of the target position\n",
    "\n",
    "**returns** \n",
    "\n",
    "* **path** list of tuples: the reconstructed path from start to goal"
   ]
  },
  {
   "cell_type": "code",
   "execution_count": 17,
   "metadata": {},
   "outputs": [],
   "source": [
    "def reconstruct_path(came_from, start, goal):\n",
    "    path = [goal]\n",
    "    while path[-1] != start:\n",
    "        path.append(came_from[path[-1]])\n",
    "    return path[::-1]\n"
   ]
  },
  {
   "cell_type": "code",
   "execution_count": 18,
   "metadata": {},
   "outputs": [],
   "source": [
    "test_came_from_1 = {(1, 1): (0, 0), (2, 2): (1, 1), (3, 3): (2, 2)}\n",
    "test_start_1 = (0, 0)\n",
    "test_goal_1 = (3, 3)\n",
    "test_expected_path_1 = [(0, 0), (1, 1), (2, 2), (3, 3)]\n",
    "test_result_1 = reconstruct_path(test_came_from_1, test_start_1, test_goal_1)\n",
    "assert test_result_1 == test_expected_path_1\n",
    "\n",
    "test_came_from_2 = {(0, 0): (0, 0)}\n",
    "test_start_2 = (0, 0)\n",
    "test_goal_2 = (0, 0)\n",
    "test_expected_path_2 = [(0, 0)]\n",
    "test_result_2 = reconstruct_path(test_came_from_2, test_start_2, test_goal_2)\n",
    "assert test_result_2 == test_expected_path_2\n",
    "\n",
    "test_came_from_3 = {\n",
    "    (1, 0): (0, 0), (0, 1): (0, 0),\n",
    "    (2, 0): (1, 0), (1, 1): (0, 1),\n",
    "    (3, 0): (2, 0), (2, 1): (1, 1),\n",
    "    (3, 1): (2, 1)\n",
    "}\n",
    "test_start_3 = (0, 0)\n",
    "test_goal_3 = (3, 1)\n",
    "test_expected_path_3 = [(0, 0), (0, 1), (1, 1), (2, 1), (3, 1)]\n",
    "test_result_3 = reconstruct_path(test_came_from_3, test_start_3, test_goal_3)\n",
    "assert test_result_3 == test_expected_path_3\n"
   ]
  },
  {
   "cell_type": "markdown",
   "metadata": {},
   "source": [
    "<a id=\"my_helper_function\"></a>\n",
    "## my_helper_function (Start a helper funtion with a Markdown cell like this)\n",
    "\n",
    "This function does nothing. It serves to demonstrate how your helper functions should be documented. They should start with a description like this Markdown cell. Next, write your function in a Code cell. Finally, end with three assert-style unit tests. \n",
    "\n",
    "* **arg_1** int: length of world\n",
    "* **arg_2** int: height of world\n",
    "\n",
    "\n",
    "**returns** \n",
    "\n",
    "* **area** int: the number of locations in the world"
   ]
  },
  {
   "cell_type": "code",
   "execution_count": 19,
   "metadata": {},
   "outputs": [],
   "source": [
    "def my_helper_function(arg_1, arg_2):\n",
    "    return arg_1 * arg_2"
   ]
  },
  {
   "cell_type": "code",
   "execution_count": 20,
   "metadata": {},
   "outputs": [],
   "source": [
    "assert my_helper_function(1,1) == 1 #if these pass, you should see no output\n",
    "assert my_helper_function(1,0) == 0 \n",
    "assert my_helper_function(len(world),len(world[0])) == 21*21 # end helper function three asserts"
   ]
  },
  {
   "cell_type": "markdown",
   "metadata": {},
   "source": [
    "<a id=\"breadth_first_search\"></a>\n",
    "## breadth_first_search\n",
    "\n",
    "Implementation of breadth-first-search to find target value on search area from start area\n",
    "\n",
    "* **world**: the search area\n",
    "* **start**: the starting location of the robot\n",
    "* **goal**: the goal location in the search area\n",
    "* **moves**: the allowable moves in the search area\n",
    "\n",
    "\n",
    "**returns** None (but prints out a nice view of the world and replaces appropriate cells using '🟨' and '🟩')."
   ]
  },
  {
   "cell_type": "code",
   "execution_count": 21,
   "metadata": {},
   "outputs": [],
   "source": [
    "def breadth_first_search(world, start, goal, moves):\n",
    "    queue = deque([start])\n",
    "    visited = set([start])\n",
    "    parent = {start: None}\n",
    "\n",
    "    while queue:\n",
    "        current_node = queue.popleft()\n",
    "        if current_node == goal:\n",
    "            path = reconstruct_path(parent, start, goal)\n",
    "            display_world(world, path, visited, start, goal)\n",
    "            return path\n",
    "\n",
    "        for neighbor in get_valid_neighbors(current_node, world, moves):\n",
    "            if neighbor not in visited:\n",
    "                queue.append(neighbor)\n",
    "                visited.add(neighbor)\n",
    "                parent[neighbor] = current_node\n",
    "\n",
    "    display_world(world, None, visited, start, goal)\n",
    "    return None\n"
   ]
  },
  {
   "cell_type": "code",
   "execution_count": 22,
   "metadata": {},
   "outputs": [
    {
     "name": "stdout",
     "output_type": "stream",
     "text": [
      "🟩🟩🟩🟩🟩🟩🟩🟩🟩🟩🟩🟩🟩🟩🟩🟩🟩🟩🟩🟩❤️\n",
      "🟩🟨🟨🟨🟨🟨🟨🟨🟨🟨🟨🟨🟨🟨🟨🟨🟨🟨🟨🟨🟨\n",
      "🟩🟨🟨🟨🟨🟨🟨🟨🟨🟨🟨🟨🟨🟨🟨🟨🟨🟨🟨🟨🟨\n",
      "🟩🟨🟨🟨🟨🟨🟨🟨🟨🟨🟨🟨🟨🟨🟨🟨🟨🟨🟨🟨🟨\n",
      "🟩🟨🟨🟨🟨🟨🟨🟨🟨🟨🟨🟨🟨🟨🟨🟨🟨🟨🟨🟨🟨\n",
      "🟩🟨🟨🟨🟨🟨🟨🟨🟨🟨🟨🟨🟨🟨🟨🟨🟨🟨🟨🟨🟨\n",
      "🟩🟨🟨🟨🟨🟨🟨🟨🟨🟨🟨🟨🟨🟨🟨🟨🟨🟨🟨🟨🟨\n",
      "🟩🟨🟨🟨🟨🟨🟨🟨🟨🟨🟨🟨🟨🟨🟨🟨🟨🟨🟨🟨🟨\n",
      "🟩🟨🟨🟨🟨🟨🟨🟨🟨🟨🟨🟨🟨🟨🟨🟨🟨🟨🟨🟨🟨\n",
      "🟩🟨🟨🟨🟨🟨🟨🟨🟨⬛⬛⬛🟨🟨🟨🟨🟨🟨🟨🟨🟨\n",
      "🟩🟨🟨🟨🟨🟨🟨🟨🟨⬛⬛⬛🟨🟨🟨🟨🟨🟨🟨🟨🟨\n",
      "🟩🟨🟨🟨🟨🟨🟨🟨🟨⬛⬛⬛🟨🟨🟨🟨🟨🟨🟨🟨🟨\n",
      "🟩🟨🟨🟨🟨🟨🟨🟨🟨🟨🟨🟨🟨🟨🟨🟨🟨🟨🟨🟨🟨\n",
      "🟩🟨🟨🟨🟨🟨🟨🟨🟨🟨🟨🟨🟨🟨🟨🟨🟨🟨🟨🟨🟨\n",
      "🟩🟨🟨🟨🟨🟨🟨🟨🟨🟨🟨🟨🟨🟨🟨🟨🟨🟨🟨🟨🟨\n",
      "🟩🟨🟨🟨🟨🟨🟨🟨🟨🟨🟨🟨🟨🟨🟨🟨🟨🟨🟨🟨🟨\n",
      "🟩🟨🟨🟨🟨🟨🟨🟨🟨🟨🟨🟨🟨🟨🟨🟨🟨🟨🟨🟨🟨\n",
      "🟩🟨🟨🟨🟨🟨🟨🟨🟨🟨🟨🟨🟨🟨🟨🟨🟨🟨🟨🟨🟨\n",
      "🟩🟨🟨🟨🟨🟨🟨🟨🟨🟨🟨🟨🟨🟨🟨🟨🟨🟨🟨🟨🟨\n",
      "🟩🟨🟨🟨🟨🟨🟨🟨🟨🟨🟨🟨🟨🟨🟨🟨🟨🟨🟨🟨🟨\n",
      "🤖🟨🟨🟨🟨🟨🟨🟨🟨🟨🟨🟨🟨🟨🟨🟨🟨🟨🟨🟨🟨\n"
     ]
    }
   ],
   "source": [
    "result_1 = breadth_first_search(world, start, goal, MOVES) # Add your arguments, but this should ONLY print out a nice view of the world"
   ]
  },
  {
   "cell_type": "markdown",
   "metadata": {},
   "source": [
    "## Problem #2\n",
    "\n",
    "\n",
    "Implement a depth-first search function to help the robot find a path to goal. \n",
    "\n",
    "\n",
    "The output guidelines are similar to Problem #1. "
   ]
  },
  {
   "cell_type": "markdown",
   "metadata": {},
   "source": [
    "Consider the following starting tree for reference:\n",
    "<img src=\"DFS_Tree.png\" alt=\"DFS_Tree\" width=\"500\"/>  \n",
    "  \n",
    "\n",
    "Since it is DFS, it will open the first child of the node until it can."
   ]
  },
  {
   "cell_type": "markdown",
   "metadata": {},
   "source": [
    "Consider this starting output for this problem:  \n",
    "<img src=\"DFS_Output.png\" alt=\"DFS_Output\" width=\"275\"/>"
   ]
  },
  {
   "cell_type": "code",
   "execution_count": 23,
   "metadata": {},
   "outputs": [],
   "source": [
    "# feel free to add helper functions below this cell."
   ]
  },
  {
   "cell_type": "markdown",
   "metadata": {},
   "source": [
    "<a id=\"depth_first_search\"></a>\n",
    "## depth_first_search\n",
    "\n",
    "Implementation of depth-first-search to find target value on search area from start area\n",
    "\n",
    "* **world**: the search area\n",
    "* **start**: the starting location of the robot\n",
    "* **goal**: the goal location in the search area\n",
    "* **moves**: the allowable moves in the search area\n",
    "\n",
    "\n",
    "**returns** None (but prints out a nice view of the world and replaces appropriate cells using '🟨' and '🟩')."
   ]
  },
  {
   "cell_type": "code",
   "execution_count": 24,
   "metadata": {},
   "outputs": [],
   "source": [
    "def depth_first_search(world, start, goal, moves):\n",
    "    queue = deque([start])\n",
    "    came_from = {start: None}\n",
    "    current = start\n",
    "\n",
    "    \n",
    "    while queue:\n",
    "        current = queue.pop()\n",
    "        if current == goal:\n",
    "            path = reconstruct_path(came_from, start, goal)\n",
    "            display_world(world, path, queue, start, goal)\n",
    "            return None\n",
    "        for next in get_valid_neighbors(current, world, moves):\n",
    "            if next not in came_from:\n",
    "                came_from[next] = current\n",
    "                queue.append(next)\n",
    "\n",
    "    display_world(world, None, queue, start, goal)\n",
    "    return None"
   ]
  },
  {
   "cell_type": "code",
   "execution_count": 25,
   "metadata": {},
   "outputs": [
    {
     "name": "stdout",
     "output_type": "stream",
     "text": [
      "⬜⬜⬜⬜⬜⬜⬜⬜⬜⬜⬜⬜⬜⬜⬜⬜⬜🟩🟩🟩❤️\n",
      "🟨🟨🟨🟨🟨🟨🟨🟨🟨🟨🟨🟨🟨🟨🟨🟨⬜🟩🟨🟨🟨\n",
      "🟩🟩🟩🟩🟩🟩🟩🟩🟩🟩🟩🟩🟩🟩🟩🟩🟨🟩🟩🟩🟩\n",
      "🟩🟨🟨🟨🟨🟨🟨🟨🟨🟨🟨🟨🟨🟨🟨🟩🟩🟨🟨🟨🟩\n",
      "🟩🟩🟩🟩🟩🟩🟩🟩🟩🟩🟩🟩🟩🟩🟩🟨🟩🟩🟩🟩🟩\n",
      "🟨🟨🟨🟨🟨🟨🟨🟨🟨🟨🟨🟨🟨🟨🟩🟩🟨🟨🟨🟨🟨\n",
      "🟩🟩🟩🟩🟩🟩🟩🟩🟩🟩🟩🟩🟩🟩🟨🟩🟩🟩🟩🟩🟩\n",
      "🟩🟨🟨🟨🟨🟨🟨🟨🟨🟨🟨🟨🟨🟩🟩🟨🟨🟨🟨🟨🟩\n",
      "🟩🟩🟩🟩🟩🟩🟩🟩🟩🟩🟩🟩🟩🟨🟩🟩🟩🟩🟩🟩🟩\n",
      "⬜🟨🟨🟨🟨🟨🟨🟨🟨⬛⬛⬛🟩🟨🟨🟨🟨🟨🟨🟨🟨\n",
      "⬜⬜⬜⬜⬜⬜⬜⬜⬜⬛⬛⬛🟩🟩🟩🟩🟩🟩🟩🟩🟩\n",
      "🟨🟨🟨🟨🟨🟨🟨🟨🟨⬛⬛⬛🟨🟨🟨🟨🟨🟨🟨🟨🟩\n",
      "🟩🟩🟩🟩🟩🟩🟩🟩🟩🟩🟩🟩🟩🟩🟩🟩🟩🟩🟩🟩🟩\n",
      "🟩🟨🟨🟨🟨🟨🟨🟨🟨🟨🟨🟨🟨🟨🟨🟨🟨🟨🟨🟨🟨\n",
      "🟩🟩🟩🟩🟩🟩🟩🟩🟩🟩🟩🟩🟩🟩🟩🟩🟩🟩🟩🟩🟩\n",
      "🟨🟨🟨🟨🟨🟨🟨🟨🟨🟨🟨🟨🟨🟨🟨🟨🟨🟨🟨🟨🟩\n",
      "🟩🟩🟩🟩🟩🟩🟩🟩🟩🟩🟩🟩🟩🟩🟩🟩🟩🟩🟩🟩🟩\n",
      "🟩🟨🟨🟨🟨🟨🟨🟨🟨🟨🟨🟨🟨🟨🟨🟨🟨🟨🟨🟨🟨\n",
      "🟩🟩🟩🟩🟩🟩🟩🟩🟩🟩🟩🟩🟩🟩🟩🟩🟩🟩🟩🟩🟩\n",
      "🟨🟨🟨🟨🟨🟨🟨🟨🟨🟨🟨🟨🟨🟨🟨🟨🟨🟨🟨🟨🟩\n",
      "🤖🟩🟩🟩🟩🟩🟩🟩🟩🟩🟩🟩🟩🟩🟩🟩🟩🟩🟩🟩🟩\n"
     ]
    }
   ],
   "source": [
    "result_2 = depth_first_search(world, start, goal, MOVES) # Add your arguments, but this should ONLY print out a nice view of the world"
   ]
  },
  {
   "cell_type": "markdown",
   "metadata": {},
   "source": [
    "## Problem #3\n",
    "\n",
    "\n",
    "Implement an A$^*$ search function to help the robot find the optimal path to goal. For this problem, when calculating the accumulated path cost assume that every step the robot takes costs 1 unit. Use straight-line distance as your heuristic.\n",
    "\n",
    "\n",
    "The output guidelines are similar to Problems 1 and 2. "
   ]
  },
  {
   "cell_type": "code",
   "execution_count": 26,
   "metadata": {},
   "outputs": [],
   "source": [
    "# Feel free to add helper functions below this cell."
   ]
  },
  {
   "cell_type": "markdown",
   "metadata": {},
   "source": [
    "<a id=\"heuristic\"></a>\n",
    "## heuristic\n",
    "\n",
    "This function calculates the Euclidean distance between two positions, which is used as a heuristic estimate in A*.\n",
    "\n",
    "* **pos** tuple: x,y coordinates of the current position\n",
    "* **goal** tuple: x,y coordinates of the goal position\n",
    "\n",
    "**returns** \n",
    "\n",
    "* **distance** float: the aforementioned Euclidean distance"
   ]
  },
  {
   "cell_type": "code",
   "execution_count": 27,
   "metadata": {},
   "outputs": [],
   "source": [
    "def heuristic(pos, goal):\n",
    "    cur_x, cur_y = pos\n",
    "    goal_x, goal_y = goal\n",
    "    return math.sqrt((cur_x - goal_x)**2 + (cur_y - goal_y)**2)"
   ]
  },
  {
   "cell_type": "code",
   "execution_count": 28,
   "metadata": {},
   "outputs": [],
   "source": [
    "assert heuristic((0, 0), (0, 0)) == 0\n",
    "\n",
    "assert math.isclose(heuristic((0, 0), (3, 0)), 3.0)\n",
    "\n",
    "assert math.isclose(heuristic((0, 0), (3, 4)), 5.0)"
   ]
  },
  {
   "cell_type": "markdown",
   "metadata": {},
   "source": [
    "<a id=\"process_next\"></a>\n",
    "## process_next\n",
    "\n",
    "This function processes a neighboring node/location in the A* search algorithm, while tracking info and updating costs.\n",
    "\n",
    "* **next** tuple: x,y coordinates of the neighboring node to process\n",
    "* **current** tuple: x,y coordinates of the current node\n",
    "* **current** tuple: x,y coordinates of the goal node\n",
    "* **cost_so_far** dict: a mapping of nodes/locations to their lowest known cost\n",
    "* **queue** list: priority queue of places to explore\n",
    "* **visited** set: set of visited nodes\n",
    "* **path_tracker** dict: a mapping of each node/location to its predecessor\n",
    "\n",
    "**returns** \n",
    "\n",
    "No return, just has expected behavior to calculate cost of neighboring nodes, update costs and path tracker, add node to queue, and mark as visited."
   ]
  },
  {
   "cell_type": "code",
   "execution_count": 29,
   "metadata": {},
   "outputs": [],
   "source": [
    "def process_next(next, current, goal, cost_so_far, queue, visited, path_tracker):\n",
    "    cost_to_next = cost_so_far[current] + 1\n",
    "    if next not in cost_so_far or cost_to_next < cost_so_far[next]:\n",
    "        cost_so_far[next] = cost_to_next\n",
    "        heapq.heappush(queue, (cost_to_next + heuristic(next, goal), next))\n",
    "        visited.add(next)\n",
    "        path_tracker[next] = current"
   ]
  },
  {
   "cell_type": "code",
   "execution_count": 30,
   "metadata": {},
   "outputs": [],
   "source": [
    "test_goal = (5, 5)\n",
    "test_cost_so_far = {(0, 0): 0}\n",
    "test_queue = []\n",
    "test_visited = set()\n",
    "test_path_tracker = {}\n",
    "\n",
    "process_next((1, 0), (0, 0), test_goal, test_cost_so_far, test_queue, test_visited, test_path_tracker)\n",
    "assert test_cost_so_far[(1, 0)] == 1\n",
    "assert (1, 0) in test_visited\n",
    "assert test_path_tracker[(1, 0)] == (0, 0)\n",
    "\n",
    "test_cost_so_far[(2, 0)] = 3\n",
    "process_next((2, 0), (1, 0), test_goal, test_cost_so_far, test_queue, test_visited, test_path_tracker)\n",
    "assert test_cost_so_far[(2, 0)] == 2 \n",
    "assert test_path_tracker[(2, 0)] == (1, 0)\n",
    "\n",
    "test_queue = [] \n",
    "process_next((3, 0), (2, 0), test_goal, test_cost_so_far, test_queue, test_visited, test_path_tracker)\n",
    "assert len(test_queue) == 1"
   ]
  },
  {
   "cell_type": "markdown",
   "metadata": {},
   "source": [
    "<a id=\"handle_goal_reached\"></a>\n",
    "## handle_goal_reached\n",
    " \n",
    "This function is called when the A* search algorithm successfully reaches the goal node/location. It reconstructs the path taken from the start to the goal and displays the world with the path highlighted.\n",
    " \n",
    "* **path_tracker** dict: a mapping of each node/location to its predecessor, used to reconstruct the path\n",
    "* **start** tuple: x,y coordinates of the starting node\n",
    "* **goal** tuple: x,y coordinates of the goal node\n",
    "* **world**: the search area\n",
    "* **visited** set: a set of nodes/places that have been visited during the search\n",
    " \n",
    "**returns** \n",
    " \n",
    "No return value; it displays the reconstructed path and the world state, indicating the start and goal positions."
   ]
  },
  {
   "cell_type": "code",
   "execution_count": 31,
   "metadata": {},
   "outputs": [],
   "source": [
    "def handle_goal_reached(path_tracker, start, goal, world, visited):\n",
    "    path = reconstruct_path(path_tracker, start, goal)\n",
    "    display_world(world, path, visited, start, goal)\n",
    "    return None"
   ]
  },
  {
   "cell_type": "code",
   "execution_count": 32,
   "metadata": {},
   "outputs": [
    {
     "name": "stdout",
     "output_type": "stream",
     "text": [
      "🤖⬜⬜\n",
      "⬜🟩⬜\n",
      "⬜⬜❤️\n",
      "\n",
      "🤖🟩⬜⬜\n",
      "⬜🟩🟩⬜\n",
      "⬜⬜🟩⬜\n",
      "⬜⬜🟩❤️\n",
      "\n",
      "🤖❤️\n",
      "⬜⬜\n"
     ]
    }
   ],
   "source": [
    "world1 = [\n",
    "    ['⬜', '⬜', '⬜'],\n",
    "    ['⬜', '⬜', '⬜'],\n",
    "    ['⬜', '⬜', '⬜']\n",
    "]\n",
    "start1 = (0, 0)\n",
    "goal1 = (2, 2)\n",
    "path_tracker1 = {(2, 2): (1, 1), (1, 1): (0, 0)}\n",
    "visited1 = {(0, 0), (1, 1), (2, 2)}\n",
    "\n",
    "handle_goal_reached(path_tracker1, start1, goal1, world1, visited1)\n",
    "\n",
    "print()\n",
    "\n",
    "# This should print:\n",
    "# 🤖⬜⬜\n",
    "# ⬜🟩⬜\n",
    "# ⬜⬜❤️\n",
    "\n",
    "world2 = [\n",
    "    ['⬜', '⬜', '⬜', '⬜'],\n",
    "    ['⬜', '⬜', '⬜', '⬜'],\n",
    "    ['⬜', '⬜', '⬜', '⬜'],\n",
    "    ['⬜', '⬜', '⬜', '⬜']\n",
    "]\n",
    "start2 = (0, 0)\n",
    "goal2 = (3, 3)\n",
    "path_tracker2 = {(3, 3): (3, 2), (3, 2): (2, 2), (2, 2): (1, 2), (1, 2): (1, 1), (1, 1): (0, 1), (0, 1): (0, 0)}\n",
    "visited2 = {(0, 0), (0, 1), (1, 1), (1, 2), (2, 2), (3, 2), (3, 3)}\n",
    "\n",
    "handle_goal_reached(path_tracker2, start2, goal2, world2, visited2)\n",
    "\n",
    "print()\n",
    "\n",
    "# This should print:\n",
    "# 🤖🟩⬜⬜\n",
    "# ⬜🟩🟩⬜\n",
    "# ⬜⬜🟩⬜\n",
    "# ⬜⬜🟩❤️\n",
    "\n",
    "world3 = [\n",
    "    ['⬜', '⬜'],\n",
    "    ['⬜', '⬜']\n",
    "]\n",
    "start3 = (0, 0)\n",
    "goal3 = (0, 1)\n",
    "path_tracker3 = {(0, 1): (0, 0)}\n",
    "visited3 = {(0, 0), (0, 1)}\n",
    "\n",
    "handle_goal_reached(path_tracker3, start3, goal3, world3, visited3)\n",
    "\n",
    "# This should print:\n",
    "# 🤖❤️\n",
    "# ⬜⬜\n"
   ]
  },
  {
   "cell_type": "markdown",
   "metadata": {},
   "source": [
    "<a id=\"a_star_search\"></a>\n",
    "## a_star_search\n",
    "\n",
    "Implementation of A* star search to find target value on search area from start area using a heuristic to track distance from start of a node to goal.\n",
    "\n",
    "* **world**: the search area\n",
    "* **start**: the starting location of the robot\n",
    "* **goal**: the goal location in the search area\n",
    "* **moves**: the allowable moves in the search area\n",
    "\n",
    "\n",
    "**returns** None (but prints out a nice view of the world and replaces appropriate cells using '🟨' and '🟩')."
   ]
  },
  {
   "cell_type": "code",
   "execution_count": 33,
   "metadata": {},
   "outputs": [],
   "source": [
    "def a_star_search(world, start, goal, moves):\n",
    "    queue = [(heuristic(start, goal), start)]\n",
    "    path_tracker, cost_so_far, visited = {start: None}, {start: 0}, set()\n",
    "    \n",
    "    while queue:\n",
    "        _, current = heapq.heappop(queue)\n",
    "        \n",
    "        if current == goal:\n",
    "            return handle_goal_reached(path_tracker, start, goal, world, visited)\n",
    "        \n",
    "        for next in get_valid_neighbors(current, world, moves):\n",
    "            if next not in path_tracker:\n",
    "                process_next(next, current, goal, cost_so_far, queue, visited, path_tracker)\n",
    "\n",
    "    display_world(world, None, queue, start, goal)\n",
    "    return None"
   ]
  },
  {
   "cell_type": "code",
   "execution_count": 34,
   "metadata": {},
   "outputs": [
    {
     "name": "stdout",
     "output_type": "stream",
     "text": [
      "🟨🟨🟨🟨🟨🟨🟨🟨🟨🟨🟨🟨🟨🟨🟨🟨🟨🟨🟨🟩❤️\n",
      "🟨🟨🟨🟨🟨🟨🟨🟨🟨🟨🟨🟨🟨🟨🟨🟨🟨🟨🟩🟩🟨\n",
      "🟨🟨🟨🟨🟨🟨🟨🟨🟨🟨🟨🟨🟨🟨🟨🟨🟨🟩🟩🟨🟨\n",
      "🟨🟨🟨🟨🟨🟨🟨🟨🟨🟨🟨🟨🟨🟨🟨🟨🟩🟩🟨🟨🟨\n",
      "🟨🟨🟨🟨🟨🟨🟨🟨🟨🟨🟨🟨🟨🟨🟨🟩🟩🟨🟨🟨🟨\n",
      "🟨🟨🟨🟨🟨🟨🟨🟨🟨🟨🟨🟨🟨🟨🟩🟩🟨🟨🟨🟨🟨\n",
      "🟨🟨🟨🟨🟨🟨🟨🟨🟨🟨🟨🟨🟨🟩🟩🟨🟨🟨🟨🟨🟨\n",
      "🟨🟨🟨🟨🟨🟨🟨🟨🟨🟨🟨🟨🟩🟩🟨🟨🟨🟨🟨🟨🟨\n",
      "🟨🟨🟨🟨🟨🟨🟨🟨🟩🟩🟩🟩🟩🟨🟨🟨🟨🟨🟨🟨🟨\n",
      "🟨🟨🟨🟨🟨🟨🟨🟨🟩⬛⬛⬛🟨🟨🟨🟨🟨🟨🟨🟨🟨\n",
      "🟨🟨🟨🟨🟨🟨🟨🟨🟩⬛⬛⬛🟨🟨🟨🟨🟨🟨🟨🟨🟨\n",
      "🟨🟨🟨🟨🟨🟨🟨🟨🟩⬛⬛⬛🟨🟨🟨🟨🟨🟨🟨🟨🟨\n",
      "🟨🟨🟨🟨🟨🟨🟨🟩🟩🟨🟨🟨🟨🟨🟨🟨🟨🟨🟨🟨🟨\n",
      "🟨🟨🟨🟨🟨🟨🟩🟩🟨🟨🟨🟨🟨🟨🟨🟨🟨🟨🟨🟨🟨\n",
      "🟨🟨🟨🟨🟨🟩🟩🟨🟨🟨🟨🟨🟨🟨🟨🟨🟨🟨🟨🟨🟨\n",
      "🟨🟨🟨🟨🟩🟩🟨🟨🟨🟨🟨🟨🟨🟨🟨🟨🟨🟨🟨🟨🟨\n",
      "🟨🟨🟨🟩🟩🟨🟨🟨🟨🟨🟨🟨🟨🟨🟨🟨🟨🟨🟨🟨🟨\n",
      "🟨🟨🟩🟩🟨🟨🟨🟨🟨🟨🟨🟨🟨🟨🟨🟨🟨🟨🟨🟨🟨\n",
      "🟨🟩🟩🟨🟨🟨🟨🟨🟨🟨🟨🟨🟨🟨🟨🟨🟨🟨🟨🟨🟨\n",
      "🟩🟩🟨🟨🟨🟨🟨🟨🟨🟨🟨🟨🟨🟨🟨🟨🟨🟨🟨🟨🟨\n",
      "🤖🟨🟨🟨🟨🟨🟨🟨🟨🟨🟨🟨🟨🟨🟨🟨🟨🟨🟨🟨🟨\n"
     ]
    }
   ],
   "source": [
    "result_3 = a_star_search(world, start, goal, MOVES) # Add your arguments, but this should ONLY print out a nice view of the world"
   ]
  },
  {
   "cell_type": "markdown",
   "metadata": {},
   "source": [
    "## Problem #4\n",
    "\n",
    "\n",
    "We're going to swap the start and goal positions and re-run the breadth-first and depth-first search algorithms.\n",
    "\n",
    "\n",
    "Fill out the table below with brief comments. "
   ]
  },
  {
   "cell_type": "code",
   "execution_count": 35,
   "metadata": {},
   "outputs": [],
   "source": [
    "start,goal=goal,start"
   ]
  },
  {
   "cell_type": "code",
   "execution_count": 36,
   "metadata": {},
   "outputs": [
    {
     "name": "stdout",
     "output_type": "stream",
     "text": [
      "🟨🟨🟨🟨🟨🟨🟨🟨🟨🟨🟨🟨🟨🟨🟨🟨🟨🟨🟨🟨🤖\n",
      "🟨🟨🟨🟨🟨🟨🟨🟨🟨🟨🟨🟨🟨🟨🟨🟨🟨🟨🟨🟨🟩\n",
      "🟨🟨🟨🟨🟨🟨🟨🟨🟨🟨🟨🟨🟨🟨🟨🟨🟨🟨🟨🟨🟩\n",
      "🟨🟨🟨🟨🟨🟨🟨🟨🟨🟨🟨🟨🟨🟨🟨🟨🟨🟨🟨🟨🟩\n",
      "🟨🟨🟨🟨🟨🟨🟨🟨🟨🟨🟨🟨🟨🟨🟨🟨🟨🟨🟨🟨🟩\n",
      "🟨🟨🟨🟨🟨🟨🟨🟨🟨🟨🟨🟨🟨🟨🟨🟨🟨🟨🟨🟨🟩\n",
      "🟨🟨🟨🟨🟨🟨🟨🟨🟨🟨🟨🟨🟨🟨🟨🟨🟨🟨🟨🟨🟩\n",
      "🟨🟨🟨🟨🟨🟨🟨🟨🟨🟨🟨🟨🟨🟨🟨🟨🟨🟨🟨🟨🟩\n",
      "🟨🟨🟨🟨🟨🟨🟨🟨🟨🟨🟨🟨🟨🟨🟨🟨🟨🟨🟨🟨🟩\n",
      "🟨🟨🟨🟨🟨🟨🟨🟨🟨⬛⬛⬛🟨🟨🟨🟨🟨🟨🟨🟨🟩\n",
      "🟨🟨🟨🟨🟨🟨🟨🟨🟨⬛⬛⬛🟨🟨🟨🟨🟨🟨🟨🟨🟩\n",
      "🟨🟨🟨🟨🟨🟨🟨🟨🟨⬛⬛⬛🟨🟨🟨🟨🟨🟨🟨🟨🟩\n",
      "🟨🟨🟨🟨🟨🟨🟨🟨🟨🟨🟨🟨🟨🟨🟨🟨🟨🟨🟨🟨🟩\n",
      "🟨🟨🟨🟨🟨🟨🟨🟨🟨🟨🟨🟨🟨🟨🟨🟨🟨🟨🟨🟨🟩\n",
      "🟨🟨🟨🟨🟨🟨🟨🟨🟨🟨🟨🟨🟨🟨🟨🟨🟨🟨🟨🟨🟩\n",
      "🟨🟨🟨🟨🟨🟨🟨🟨🟨🟨🟨🟨🟨🟨🟨🟨🟨🟨🟨🟨🟩\n",
      "🟨🟨🟨🟨🟨🟨🟨🟨🟨🟨🟨🟨🟨🟨🟨🟨🟨🟨🟨🟨🟩\n",
      "🟨🟨🟨🟨🟨🟨🟨🟨🟨🟨🟨🟨🟨🟨🟨🟨🟨🟨🟨🟨🟩\n",
      "🟨🟨🟨🟨🟨🟨🟨🟨🟨🟨🟨🟨🟨🟨🟨🟨🟨🟨🟨🟨🟩\n",
      "🟨🟨🟨🟨🟨🟨🟨🟨🟨🟨🟨🟨🟨🟨🟨🟨🟨🟨🟨🟨🟩\n",
      "❤️🟩🟩🟩🟩🟩🟩🟩🟩🟩🟩🟩🟩🟩🟩🟩🟩🟩🟩🟩🟩\n"
     ]
    }
   ],
   "source": [
    "result_4a = breadth_first_search(world, start, goal, MOVES) # Add your arguments, but this should ONLY print out a nice view of the world"
   ]
  },
  {
   "cell_type": "code",
   "execution_count": 37,
   "metadata": {},
   "outputs": [
    {
     "name": "stdout",
     "output_type": "stream",
     "text": [
      "🟩🟩🟩🟩🟩🟩🟩🟩🟩🟩🟩🟩🟩🟩🟩🟩🟩🟩🟩🟩🤖\n",
      "🟩🟨🟨🟨🟨🟨🟨🟨🟨🟨🟨🟨🟨🟨🟨🟨🟨🟨🟨🟨🟨\n",
      "🟩🟨⬜⬜⬜⬜⬜⬜⬜⬜⬜⬜⬜⬜⬜⬜⬜⬜⬜⬜⬜\n",
      "🟩🟨⬜⬜⬜⬜⬜⬜⬜⬜⬜⬜⬜⬜⬜⬜⬜⬜⬜⬜⬜\n",
      "🟩🟨⬜⬜⬜⬜⬜⬜⬜⬜⬜⬜⬜⬜⬜⬜⬜⬜⬜⬜⬜\n",
      "🟩🟨⬜⬜⬜⬜⬜⬜⬜⬜⬜⬜⬜⬜⬜⬜⬜⬜⬜⬜⬜\n",
      "🟩🟨⬜⬜⬜⬜⬜⬜⬜⬜⬜⬜⬜⬜⬜⬜⬜⬜⬜⬜⬜\n",
      "🟩🟨⬜⬜⬜⬜⬜⬜⬜⬜⬜⬜⬜⬜⬜⬜⬜⬜⬜⬜⬜\n",
      "🟩🟨⬜⬜⬜⬜⬜⬜⬜⬜⬜⬜⬜⬜⬜⬜⬜⬜⬜⬜⬜\n",
      "🟩🟨⬜⬜⬜⬜⬜⬜⬜⬛⬛⬛⬜⬜⬜⬜⬜⬜⬜⬜⬜\n",
      "🟩🟨⬜⬜⬜⬜⬜⬜⬜⬛⬛⬛⬜⬜⬜⬜⬜⬜⬜⬜⬜\n",
      "🟩🟨⬜⬜⬜⬜⬜⬜⬜⬛⬛⬛⬜⬜⬜⬜⬜⬜⬜⬜⬜\n",
      "🟩🟨⬜⬜⬜⬜⬜⬜⬜⬜⬜⬜⬜⬜⬜⬜⬜⬜⬜⬜⬜\n",
      "🟩🟨⬜⬜⬜⬜⬜⬜⬜⬜⬜⬜⬜⬜⬜⬜⬜⬜⬜⬜⬜\n",
      "🟩🟨⬜⬜⬜⬜⬜⬜⬜⬜⬜⬜⬜⬜⬜⬜⬜⬜⬜⬜⬜\n",
      "🟩🟨⬜⬜⬜⬜⬜⬜⬜⬜⬜⬜⬜⬜⬜⬜⬜⬜⬜⬜⬜\n",
      "🟩🟨⬜⬜⬜⬜⬜⬜⬜⬜⬜⬜⬜⬜⬜⬜⬜⬜⬜⬜⬜\n",
      "🟩🟨⬜⬜⬜⬜⬜⬜⬜⬜⬜⬜⬜⬜⬜⬜⬜⬜⬜⬜⬜\n",
      "🟩🟨⬜⬜⬜⬜⬜⬜⬜⬜⬜⬜⬜⬜⬜⬜⬜⬜⬜⬜⬜\n",
      "🟩🟨⬜⬜⬜⬜⬜⬜⬜⬜⬜⬜⬜⬜⬜⬜⬜⬜⬜⬜⬜\n",
      "❤️⬜⬜⬜⬜⬜⬜⬜⬜⬜⬜⬜⬜⬜⬜⬜⬜⬜⬜⬜⬜\n"
     ]
    }
   ],
   "source": [
    "result_4b = depth_first_search(world, start, goal, MOVES) # Add your arguments, but this should ONLY print out a nice view of the world"
   ]
  },
  {
   "cell_type": "markdown",
   "metadata": {},
   "source": [
    "| Comparison | Comment | \n",
    "|------|------|\n",
    "|BFS (original positions) vs DFS (original positions)| DFS visited slightly fewer nodes but still reached the goal in the same way; thus, DFS was more efficient than BFS. |\n",
    "|BFS (original positions) vs BFS (swapped positions) | Both the original and swapped position BFS visited all nodes. The paths were very similar. |\n",
    "|DFS (original positions) vs DFS (swapped positions) | The swapped-position DFS found a much cleaner and more straightforward path, making it more efficient than the original position, which was quite chaotic. |\n"
   ]
  },
  {
   "cell_type": "markdown",
   "metadata": {},
   "source": [
    "## Before You Submit...\n",
    "\n",
    "1. Re-read the general instructions provided above, and\n",
    "2. Hit \"Kernel\"->\"Restart & Run All\"."
   ]
  }
 ],
 "metadata": {
  "kernelspec": {
   "display_name": "base",
   "language": "python",
   "name": "python3"
  },
  "language_info": {
   "codemirror_mode": {
    "name": "ipython",
    "version": 3
   },
   "file_extension": ".py",
   "mimetype": "text/x-python",
   "name": "python",
   "nbconvert_exporter": "python",
   "pygments_lexer": "ipython3",
   "version": "3.9.7"
  },
  "toc": {
   "colors": {
    "hover_highlight": "#DAA520",
    "navigate_num": "#000000",
    "navigate_text": "#333333",
    "running_highlight": "#FF0000",
    "selected_highlight": "#FFD700",
    "sidebar_border": "#EEEEEE",
    "wrapper_background": "#FFFFFF"
   },
   "moveMenuLeft": true,
   "nav_menu": {
    "height": "192px",
    "width": "252px"
   },
   "navigate_menu": true,
   "number_sections": true,
   "sideBar": true,
   "threshold": 4,
   "toc_cell": false,
   "toc_section_display": "block",
   "toc_window_display": false,
   "widenNotebook": false
  }
 },
 "nbformat": 4,
 "nbformat_minor": 4
}
